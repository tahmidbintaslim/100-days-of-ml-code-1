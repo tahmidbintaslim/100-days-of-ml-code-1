{
  "nbformat": 4,
  "nbformat_minor": 0,
  "metadata": {
    "colab": {
      "name": "OCR.ipynb",
      "provenance": [],
      "authorship_tag": "ABX9TyNB6VhZ2qy5a3c9GBV5ilaj",
      "include_colab_link": true
    },
    "kernelspec": {
      "name": "python3",
      "display_name": "Python 3"
    },
    "accelerator": "GPU"
  },
  "cells": [
    {
      "cell_type": "markdown",
      "metadata": {
        "id": "view-in-github",
        "colab_type": "text"
      },
      "source": [
        "<a href=\"https://colab.research.google.com/github/sourcecode369/100-days-of-ml-code/blob/master/OCR.ipynb\" target=\"_parent\"><img src=\"https://colab.research.google.com/assets/colab-badge.svg\" alt=\"Open In Colab\"/></a>"
      ]
    },
    {
      "cell_type": "code",
      "metadata": {
        "id": "fTBum51KkI4a",
        "colab_type": "code",
        "outputId": "86979906-772c-4f59-ebb3-d0d4d9cc7c54",
        "colab": {
          "base_uri": "https://localhost:8080/",
          "height": 135
        }
      },
      "source": [
        "!pip install pillow\n",
        "!pip install wand"
      ],
      "execution_count": 0,
      "outputs": [
        {
          "output_type": "stream",
          "text": [
            "Requirement already satisfied: pillow in /usr/local/lib/python3.6/dist-packages (7.0.0)\n",
            "Collecting wand\n",
            "\u001b[?25l  Downloading https://files.pythonhosted.org/packages/2e/06/5845baa21b3190248d571400cdeeb2de84f3c8757b2046c5ee1eadf59d7a/Wand-0.5.9-py2.py3-none-any.whl (129kB)\n",
            "\u001b[K     |████████████████████████████████| 133kB 7.0MB/s \n",
            "\u001b[?25hInstalling collected packages: wand\n",
            "Successfully installed wand-0.5.9\n"
          ],
          "name": "stdout"
        }
      ]
    },
    {
      "cell_type": "code",
      "metadata": {
        "id": "jwlDZQbOpHxd",
        "colab_type": "code",
        "outputId": "7a565f81-8fa5-425d-d949-4ea34006cd4e",
        "colab": {
          "base_uri": "https://localhost:8080/",
          "height": 1000
        }
      },
      "source": [
        "try:\n",
        "  !sudo apt install tesseract-ocr\n",
        "  !pip install pytesseract\n",
        "  !pip install numpy \n",
        "  !pip install openpyxl\n",
        "  !pip install pandas \n",
        "  !pip install pdf2image\n",
        "  !pip install opencv-python==4.0.0.21\n",
        "  !pip install XlsxWriter==1.1.2\n",
        "except Exception as ex:\n",
        "  print(f'Cannot install {ex} dependency.')"
      ],
      "execution_count": 0,
      "outputs": [
        {
          "output_type": "stream",
          "text": [
            "Reading package lists... Done\n",
            "Building dependency tree       \n",
            "Reading state information... Done\n",
            "The following additional packages will be installed:\n",
            "  tesseract-ocr-eng tesseract-ocr-osd\n",
            "The following NEW packages will be installed:\n",
            "  tesseract-ocr tesseract-ocr-eng tesseract-ocr-osd\n",
            "0 upgraded, 3 newly installed, 0 to remove and 25 not upgraded.\n",
            "Need to get 4,795 kB of archives.\n",
            "After this operation, 15.8 MB of additional disk space will be used.\n",
            "Get:1 http://archive.ubuntu.com/ubuntu bionic/universe amd64 tesseract-ocr-eng all 4.00~git24-0e00fe6-1.2 [1,588 kB]\n",
            "Get:2 http://archive.ubuntu.com/ubuntu bionic/universe amd64 tesseract-ocr-osd all 4.00~git24-0e00fe6-1.2 [2,989 kB]\n",
            "Get:3 http://archive.ubuntu.com/ubuntu bionic/universe amd64 tesseract-ocr amd64 4.00~git2288-10f4998a-2 [218 kB]\n",
            "Fetched 4,795 kB in 0s (28.5 MB/s)\n",
            "debconf: unable to initialize frontend: Dialog\n",
            "debconf: (No usable dialog-like program is installed, so the dialog based frontend cannot be used. at /usr/share/perl5/Debconf/FrontEnd/Dialog.pm line 76, <> line 3.)\n",
            "debconf: falling back to frontend: Readline\n",
            "debconf: unable to initialize frontend: Readline\n",
            "debconf: (This frontend requires a controlling tty.)\n",
            "debconf: falling back to frontend: Teletype\n",
            "dpkg-preconfigure: unable to re-open stdin: \n",
            "Selecting previously unselected package tesseract-ocr-eng.\n",
            "(Reading database ... 144542 files and directories currently installed.)\n",
            "Preparing to unpack .../tesseract-ocr-eng_4.00~git24-0e00fe6-1.2_all.deb ...\n",
            "Unpacking tesseract-ocr-eng (4.00~git24-0e00fe6-1.2) ...\n",
            "Selecting previously unselected package tesseract-ocr-osd.\n",
            "Preparing to unpack .../tesseract-ocr-osd_4.00~git24-0e00fe6-1.2_all.deb ...\n",
            "Unpacking tesseract-ocr-osd (4.00~git24-0e00fe6-1.2) ...\n",
            "Selecting previously unselected package tesseract-ocr.\n",
            "Preparing to unpack .../tesseract-ocr_4.00~git2288-10f4998a-2_amd64.deb ...\n",
            "Unpacking tesseract-ocr (4.00~git2288-10f4998a-2) ...\n",
            "Setting up tesseract-ocr-osd (4.00~git24-0e00fe6-1.2) ...\n",
            "Setting up tesseract-ocr-eng (4.00~git24-0e00fe6-1.2) ...\n",
            "Setting up tesseract-ocr (4.00~git2288-10f4998a-2) ...\n",
            "Processing triggers for man-db (2.8.3-2ubuntu0.1) ...\n",
            "Collecting pytesseract\n",
            "  Downloading https://files.pythonhosted.org/packages/3c/1d/2993a05adb253902a372d7886733ae7688615cf000c54fe3c075892cb5d4/pytesseract-0.3.3.tar.gz\n",
            "Requirement already satisfied: Pillow in /usr/local/lib/python3.6/dist-packages (from pytesseract) (7.0.0)\n",
            "Building wheels for collected packages: pytesseract\n",
            "  Building wheel for pytesseract (setup.py) ... \u001b[?25l\u001b[?25hdone\n",
            "  Created wheel for pytesseract: filename=pytesseract-0.3.3-py2.py3-none-any.whl size=13396 sha256=68f7b7d566ae4c4c725b91174121dfe2cdf3de1f8a46e59e8daf644a708a15d5\n",
            "  Stored in directory: /root/.cache/pip/wheels/82/1a/d0/a884540a5602305f5bb7ff44f05550be20453edce8fae69241\n",
            "Successfully built pytesseract\n",
            "Installing collected packages: pytesseract\n",
            "Successfully installed pytesseract-0.3.3\n",
            "Requirement already satisfied: numpy in /usr/local/lib/python3.6/dist-packages (1.18.2)\n",
            "Requirement already satisfied: openpyxl in /usr/local/lib/python3.6/dist-packages (2.5.9)\n",
            "Requirement already satisfied: et-xmlfile in /usr/local/lib/python3.6/dist-packages (from openpyxl) (1.0.1)\n",
            "Requirement already satisfied: jdcal in /usr/local/lib/python3.6/dist-packages (from openpyxl) (1.4.1)\n",
            "Requirement already satisfied: pandas in /usr/local/lib/python3.6/dist-packages (0.25.3)\n",
            "Requirement already satisfied: pytz>=2017.2 in /usr/local/lib/python3.6/dist-packages (from pandas) (2018.9)\n",
            "Requirement already satisfied: python-dateutil>=2.6.1 in /usr/local/lib/python3.6/dist-packages (from pandas) (2.8.1)\n",
            "Requirement already satisfied: numpy>=1.13.3 in /usr/local/lib/python3.6/dist-packages (from pandas) (1.18.2)\n",
            "Requirement already satisfied: six>=1.5 in /usr/local/lib/python3.6/dist-packages (from python-dateutil>=2.6.1->pandas) (1.12.0)\n",
            "Collecting pdf2image\n",
            "  Downloading https://files.pythonhosted.org/packages/c3/12/ba5aadb3ba2e9c0f15d897622aa5707d64d0b2cab1fb34bee21559fa386a/pdf2image-1.12.1.tar.gz\n",
            "Requirement already satisfied: pillow in /usr/local/lib/python3.6/dist-packages (from pdf2image) (7.0.0)\n",
            "Building wheels for collected packages: pdf2image\n",
            "  Building wheel for pdf2image (setup.py) ... \u001b[?25l\u001b[?25hdone\n",
            "  Created wheel for pdf2image: filename=pdf2image-1.12.1-cp36-none-any.whl size=9027 sha256=8308f6e3abfd922b38c29d0e7dec2c9c65d575eec6f6d9cd5c8d41b34782e8e0\n",
            "  Stored in directory: /root/.cache/pip/wheels/0f/80/3a/fac1dc0f7dbe12c805b9dc6497f325f0e9f9cedbec3ab0185b\n",
            "Successfully built pdf2image\n",
            "Installing collected packages: pdf2image\n",
            "Successfully installed pdf2image-1.12.1\n",
            "Collecting opencv-python==4.0.0.21\n",
            "\u001b[?25l  Downloading https://files.pythonhosted.org/packages/37/49/874d119948a5a084a7ebe98308214098ef3471d76ab74200f9800efeef15/opencv_python-4.0.0.21-cp36-cp36m-manylinux1_x86_64.whl (25.4MB)\n",
            "\u001b[K     |████████████████████████████████| 25.4MB 114kB/s \n",
            "\u001b[?25hRequirement already satisfied: numpy>=1.11.3 in /usr/local/lib/python3.6/dist-packages (from opencv-python==4.0.0.21) (1.18.2)\n",
            "\u001b[31mERROR: albumentations 0.1.12 has requirement imgaug<0.2.7,>=0.2.5, but you'll have imgaug 0.2.9 which is incompatible.\u001b[0m\n",
            "Installing collected packages: opencv-python\n",
            "  Found existing installation: opencv-python 4.1.2.30\n",
            "    Uninstalling opencv-python-4.1.2.30:\n",
            "      Successfully uninstalled opencv-python-4.1.2.30\n",
            "Successfully installed opencv-python-4.0.0.21\n",
            "Collecting XlsxWriter==1.1.2\n",
            "\u001b[?25l  Downloading https://files.pythonhosted.org/packages/3d/1b/4caecd4efde1d41ba3bef1a81027032a7a6dff7d5112e1731f232c0addb9/XlsxWriter-1.1.2-py2.py3-none-any.whl (142kB)\n",
            "\u001b[K     |████████████████████████████████| 143kB 7.0MB/s \n",
            "\u001b[?25hInstalling collected packages: XlsxWriter\n",
            "Successfully installed XlsxWriter-1.1.2\n"
          ],
          "name": "stdout"
        }
      ]
    },
    {
      "cell_type": "code",
      "metadata": {
        "id": "6QT1Q7LCr1LT",
        "colab_type": "code",
        "colab": {}
      },
      "source": [
        "class Table:\n",
        "    def __init__(self, x, y, w, h):\n",
        "        self.x = x\n",
        "        self.y = y\n",
        "        self.w = w\n",
        "        self.h = h\n",
        "        self.joints = None\n",
        "\n",
        "    def __str__(self):\n",
        "        return \"(x: %d, y: %d, w: %d, h: %d)\" % (self.x, self.x + self.w, self.y, self.y + self.h)\n",
        "    \n",
        "    # Stores the coordinates of the table joints.\n",
        "    # Assumes the n-dimensional array joints is sorted in ascending order.\n",
        "    def set_joints(self, joints):\n",
        "        if self.joints != None:\n",
        "            raise ValueError(\"Invalid setting of table joints array.\")\n",
        "\n",
        "        self.joints = []\n",
        "        row_y = joints[0][1]\n",
        "        row = []\n",
        "        for i in range(len(joints)):\n",
        "            if i == len(joints) - 1:\n",
        "                row.append(joints[i])\n",
        "                self.joints.append(row)\n",
        "                break\n",
        "\n",
        "            row.append(joints[i])\n",
        "\n",
        "            # If the next joint has a new y-coordinate,\n",
        "            # start a new row.\n",
        "            if joints[i + 1][1] != row_y:\n",
        "                self.joints.append(row)\n",
        "                row_y = joints[i + 1][1]\n",
        "                row = []\n",
        "\n",
        "    # Prints the coordinates of the joints.\n",
        "    def print_joints(self):\n",
        "        if self.joints == None:\n",
        "            print(\"Joint coordinates not found.\")\n",
        "            return\n",
        "\n",
        "        print(\"[\")\n",
        "        for row in self.joints:\n",
        "            print(\"\\t\" + str(row))\n",
        "        print(\"]\")\n",
        "\n",
        "    # Finds the bounds of table entries in the image by\n",
        "    # using the coordinates of the table joints.\n",
        "    def get_table_entries(self):\n",
        "        if self.joints == None:\n",
        "            print(\"Joint coordinates not found.\")\n",
        "            return\n",
        "\n",
        "        entry_coords = []\n",
        "        for i in range(0, len(self.joints) - 1):\n",
        "            entry_coords.append(self.get_entry_bounds_in_row(self.joints[i], self.joints[i + 1]))\n",
        "\n",
        "        return entry_coords\n",
        "\n",
        "    # Finds the bounds of table entries\n",
        "    # in each row based on the given sets of joints.\n",
        "    def get_entry_bounds_in_row(self, joints_A, joints_B):\n",
        "        row_entries = []\n",
        "\n",
        "        # Since the sets of joints may not have the same \n",
        "        # number of points, we pick the set with a lower number \n",
        "        # of points to find the bounds from.\n",
        "        if len(joints_A) <= len(joints_B):\n",
        "            defining_bounds = joints_A\n",
        "            helper_bounds = joints_B\n",
        "        else:\n",
        "            defining_bounds = joints_B\n",
        "            helper_bounds = joints_A\n",
        "\n",
        "        for i in range(0, len(defining_bounds) - 1):\n",
        "            x = defining_bounds[i][0]\n",
        "            y = defining_bounds[i][1]\n",
        "            w = defining_bounds[i + 1][0] - x # helper_bounds's (i + 1)th coordinate may not be the lower-right corner\n",
        "            h = helper_bounds[0][1] - y # helper_bounds has the same y-coordinate for all of its elements\n",
        "\n",
        "            # If the calculated height is less than 0, \n",
        "            # make the height positive and\n",
        "            # use the y-coordinate of the row above for the bounds\n",
        "            if h < 0:\n",
        "                h = -h\n",
        "                y = y - h\n",
        "\n",
        "            row_entries.append([x, y, w, h])\n",
        "\n",
        "        return row_entries"
      ],
      "execution_count": 0,
      "outputs": []
    },
    {
      "cell_type": "code",
      "metadata": {
        "id": "E7L9H1U2QmNQ",
        "colab_type": "code",
        "colab": {}
      },
      "source": [
        "from __future__ import absolute_import, print_function, division, unicode_literals\n",
        "from builtins import range, input"
      ],
      "execution_count": 0,
      "outputs": []
    },
    {
      "cell_type": "code",
      "metadata": {
        "id": "cMb-gYZu9Q-_",
        "colab_type": "code",
        "colab": {}
      },
      "source": [
        "try:\n",
        "  import cv2 as cv\n",
        "  import pytesseract as tess\n",
        "  from PIL import Image\n",
        "  import subprocess as s\n",
        "  import os\n",
        "  from pdf2image import convert_from_path\n",
        "  import sys\n",
        "  import xlsxwriter\n",
        "  import warnings\n",
        "  warnings.simplefilter(\"ignore\")\n",
        "  import gc\n",
        "  gc.enable()\n",
        "  import numpy as np\n",
        "  np.set_printoptions(precision=2)\n",
        "except Exception as ex:\n",
        "  raise ex"
      ],
      "execution_count": 0,
      "outputs": []
    },
    {
      "cell_type": "code",
      "metadata": {
        "id": "ANoB_GyF9uCV",
        "colab_type": "code",
        "colab": {}
      },
      "source": [
        "def isolate_lines(src, structuring_element):\n",
        "\tcv.erode(src, structuring_element, src, (-1, -1))\n",
        "\tcv.dilate(src, structuring_element, src, (-1, -1))\n",
        " \n",
        "MIN_TABLE_AREA = 50 \n",
        "EPSILON = 3"
      ],
      "execution_count": 0,
      "outputs": []
    },
    {
      "cell_type": "code",
      "metadata": {
        "id": "2V18aUcA-byt",
        "colab_type": "code",
        "colab": {}
      },
      "source": [
        "def verify_table(contour, intersections):\n",
        "    area = cv.contourArea(contour)\n",
        "    if (area < MIN_TABLE_AREA):\n",
        "        return (None, None)\n",
        "    curve = cv.approxPolyDP(contour, EPSILON, True)\n",
        "    rect = cv.boundingRect(curve)\n",
        "    possible_table_region = intersections[rect[1]:rect[1] + rect[3], rect[0]:rect[0] + rect[2]]\n",
        "    (possible_table_joints, _) = cv.findContours(possible_table_region, cv.RETR_CCOMP, cv.CHAIN_APPROX_SIMPLE)\n",
        "    if len(possible_table_joints) < 5:\n",
        "        return (None, None)\n",
        "    return rect, possible_table_joints"
      ],
      "execution_count": 0,
      "outputs": []
    },
    {
      "cell_type": "code",
      "metadata": {
        "id": "KAgEudNRPDh3",
        "colab_type": "code",
        "colab": {}
      },
      "source": [
        "def mkdir(path):\n",
        "  if not os.path.exists(path):\n",
        "      os.makedirs(path)"
      ],
      "execution_count": 0,
      "outputs": []
    },
    {
      "cell_type": "code",
      "metadata": {
        "id": "_UzZndstPKDM",
        "colab_type": "code",
        "colab": {}
      },
      "source": [
        "def showImg(name, matrix, durationMillis=0):\n",
        "  cv.imshow(name, matrix)\n",
        "  cv.waitKey(durationMillis)"
      ],
      "execution_count": 0,
      "outputs": []
    },
    {
      "cell_type": "code",
      "metadata": {
        "id": "elA7ofiiPZAm",
        "colab_type": "code",
        "outputId": "afbdfca1-e797-48f7-fb39-665cdc395c42",
        "colab": {
          "resources": {
            "http://localhost:8080/nbextensions/google.colab/files.js": {
              "data": "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",
              "ok": true,
              "headers": [
                [
                  "content-type",
                  "application/javascript"
                ]
              ],
              "status": 200,
              "status_text": ""
            }
          },
          "base_uri": "https://localhost:8080/",
          "height": 218
        }
      },
      "source": [
        "'''\n",
        "Using the text cleaner script to clean the image\n",
        "'''\n",
        "# upload text cleaner and pdf or jpg file\n",
        "from google.colab import files;\n",
        "files.upload()\n",
        "!mkdir data\n",
        "!mv 'Citi_JIRASniping.jpg' data\n",
        "!ls -GFlash --color"
      ],
      "execution_count": 0,
      "outputs": [
        {
          "output_type": "display_data",
          "data": {
            "text/html": [
              "\n",
              "     <input type=\"file\" id=\"files-9769a4cb-e0b8-415a-b130-ad72a6c21bee\" name=\"files[]\" multiple disabled />\n",
              "     <output id=\"result-9769a4cb-e0b8-415a-b130-ad72a6c21bee\">\n",
              "      Upload widget is only available when the cell has been executed in the\n",
              "      current browser session. Please rerun this cell to enable.\n",
              "      </output>\n",
              "      <script src=\"/nbextensions/google.colab/files.js\"></script> "
            ],
            "text/plain": [
              "<IPython.core.display.HTML object>"
            ]
          },
          "metadata": {
            "tags": []
          }
        },
        {
          "output_type": "stream",
          "text": [
            "Saving textcleaner to textcleaner\n",
            "Saving Citi_JIRASniping.jpg to Citi_JIRASniping.jpg\n",
            "total 44K\n",
            "4.0K drwxr-xr-x 1 root 4.0K Mar 26 11:39 \u001b[0m\u001b[01;34m.\u001b[0m/\n",
            "4.0K drwxr-xr-x 1 root 4.0K Mar 26 11:09 \u001b[01;34m..\u001b[0m/\n",
            "4.0K drwxr-xr-x 1 root 4.0K Mar 24 16:59 \u001b[01;34m.config\u001b[0m/\n",
            "4.0K drwxr-xr-x 2 root 4.0K Mar 26 11:39 \u001b[01;34mdata\u001b[0m/\n",
            "4.0K drwxr-xr-x 1 root 4.0K Mar 18 16:23 \u001b[01;34msample_data\u001b[0m/\n",
            " 24K -rw-r--r-- 1 root  24K Mar 26 11:39 textcleaner\n"
          ],
          "name": "stdout"
        }
      ]
    },
    {
      "cell_type": "code",
      "metadata": {
        "id": "S-avx4Q3-Njy",
        "colab_type": "code",
        "colab": {}
      },
      "source": [
        "path = 'data/Citi_JIRASniping.jpg'"
      ],
      "execution_count": 0,
      "outputs": []
    },
    {
      "cell_type": "code",
      "metadata": {
        "id": "h50WQIO3PiQP",
        "colab_type": "code",
        "colab": {}
      },
      "source": [
        "def run_textcleaner(filename, img_id):\n",
        "    mkdir(\"bin/cleaned/\")\n",
        "    cleaned_file = \"bin/cleaned/cleaned\" + str(img_id) + \".jpg\"\n",
        "    s.call([\"./textcleaner.sh\", \"-g\", \"-e\", \"none\", \"-f\", str(10), \"-o\", str(20), \"-t\", str(30), \"-u\", \"-s\", str(1), \"-T\", \"-p\", str(20), filename, cleaned_file])\n",
        "    return cleaned_file"
      ],
      "execution_count": 0,
      "outputs": []
    },
    {
      "cell_type": "code",
      "metadata": {
        "id": "KmYFsoeRP9XP",
        "colab_type": "code",
        "colab": {}
      },
      "source": [
        "def run_tesseract(filename, img_id, psm, oem):\n",
        "    mkdir(\"bin/extracted/\")\n",
        "    image = Image.open(filename)\n",
        "    language = 'eng'\n",
        "    configuration = \"--psm \" + str(psm) + \" --oem \" + str(oem)\n",
        "    text = tess.image_to_string(image, lang=language, config=configuration)\n",
        "    if len(text.strip()) == 0:\n",
        "        configuration += \" -c tessedit_char_whitelist=0123456789\"\n",
        "        text = tess.image_to_string(image, lang=language, config=configuration)\n",
        "    return text"
      ],
      "execution_count": 0,
      "outputs": []
    },
    {
      "cell_type": "code",
      "metadata": {
        "id": "ricTh4cHQKC6",
        "colab_type": "code",
        "colab": {}
      },
      "source": [
        "if not path.endswith(\".pdf\") and not path.endswith(\".jpg\"):\n",
        "    print(\"Must use a pdf or a jpg image to run the program.\")\n",
        "    sys.exit(1)"
      ],
      "execution_count": 0,
      "outputs": []
    },
    {
      "cell_type": "code",
      "metadata": {
        "id": "vaTEjIGIRQ1n",
        "colab_type": "code",
        "colab": {}
      },
      "source": [
        "if path.endswith(\".pdf\"):\n",
        "    ext_img = convert_from_path(path)[0]\n",
        "else:\n",
        "    ext_img = Image.open(path)"
      ],
      "execution_count": 0,
      "outputs": []
    },
    {
      "cell_type": "code",
      "metadata": {
        "id": "5CZfp7LjRXXH",
        "colab_type": "code",
        "colab": {}
      },
      "source": [
        "ext_img.save(\"data/target.png\", \"PNG\")\n",
        "image = cv.imread(\"data/target.png\")"
      ],
      "execution_count": 0,
      "outputs": []
    },
    {
      "cell_type": "code",
      "metadata": {
        "id": "qNuSQF1WSVNC",
        "colab_type": "code",
        "colab": {}
      },
      "source": [
        "NUM_CHANNELS = 3\n",
        "if len(image.shape) == NUM_CHANNELS:\n",
        "    grayscale = cv.cvtColor(image, cv.COLOR_BGR2GRAY)"
      ],
      "execution_count": 0,
      "outputs": []
    },
    {
      "cell_type": "code",
      "metadata": {
        "id": "EqIMv-LUSu4O",
        "colab_type": "code",
        "colab": {}
      },
      "source": [
        "MAX_THRESHOLD_VALUE = 255\n",
        "BLOCK_SIZE = 15\n",
        "THRESHOLD_CONSTANT = 0\n",
        "\n",
        "filtered = cv.adaptiveThreshold(~grayscale, MAX_THRESHOLD_VALUE, cv.ADAPTIVE_THRESH_MEAN_C, cv.THRESH_BINARY, BLOCK_SIZE, THRESHOLD_CONSTANT)"
      ],
      "execution_count": 0,
      "outputs": []
    },
    {
      "cell_type": "code",
      "metadata": {
        "id": "XqRDyhMAS0-A",
        "colab_type": "code",
        "colab": {}
      },
      "source": [
        "SCALE = 15"
      ],
      "execution_count": 0,
      "outputs": []
    },
    {
      "cell_type": "code",
      "metadata": {
        "id": "paxdsy4_S525",
        "colab_type": "code",
        "colab": {}
      },
      "source": [
        "horizontal = filtered.copy()\n",
        "vertical = filtered.copy()\n",
        "\n",
        "horizontal_size = int(horizontal.shape[1] / SCALE)\n",
        "horizontal_structure = cv.getStructuringElement(cv.MORPH_RECT, (horizontal_size, 1))\n",
        "isolate_lines(horizontal, horizontal_structure)\n",
        "\n",
        "vertical_size = int(vertical.shape[0] / SCALE)\n",
        "vertical_structure = cv.getStructuringElement(cv.MORPH_RECT, (1, vertical_size))\n",
        "isolate_lines(vertical, vertical_structure)"
      ],
      "execution_count": 0,
      "outputs": []
    },
    {
      "cell_type": "code",
      "metadata": {
        "id": "0U925KwcTbxQ",
        "colab_type": "code",
        "colab": {}
      },
      "source": [
        "mask = horizontal + vertical\n",
        "(contours, _) = cv.findContours(mask, cv.RETR_EXTERNAL, cv.CHAIN_APPROX_SIMPLE)"
      ],
      "execution_count": 0,
      "outputs": []
    },
    {
      "cell_type": "code",
      "metadata": {
        "id": "UI52E8ZpTfjV",
        "colab_type": "code",
        "colab": {}
      },
      "source": [
        "intersections = cv.bitwise_and(horizontal, vertical)\n",
        "\n",
        "tables = [] \n",
        "for i in range(len(contours)):\n",
        "    (rect, table_joints) = verify_table(contours[i], intersections)\n",
        "    if rect == None or table_joints == None:\n",
        "        continue\n",
        "\n",
        "    table = Table(rect[0], rect[1], rect[2], rect[3])\n",
        "\n",
        "    joint_coords = []\n",
        "    for i in range(len(table_joints)):\n",
        "        joint_coords.append(table_joints[i][0][0])\n",
        "    joint_coords = np.asarray(joint_coords)\n",
        "\n",
        "    sorted_indices = np.lexsort((joint_coords[:, 0], joint_coords[:, 1]))\n",
        "    joint_coords = joint_coords[sorted_indices]\n",
        "\n",
        "    table.set_joints(joint_coords)\n",
        "\n",
        "    tables.append(table)"
      ],
      "execution_count": 0,
      "outputs": []
    },
    {
      "cell_type": "code",
      "metadata": {
        "id": "yL7ujZvWShrL",
        "colab_type": "code",
        "colab": {}
      },
      "source": [
        "out = \"bin/\"\n",
        "table_name = \"table.jpg\"\n",
        "psm = 6\n",
        "oem = 3\n",
        "mult = 3\n",
        "\n",
        "mkdir(out)\n",
        "mkdir(\"bin/table/\")\n",
        "\n",
        "mkdir(\"excel/\")\n",
        "workbook = xlsxwriter.Workbook('excel/tables.xlsx')\n",
        "\n",
        "for table in tables:\n",
        "    worksheet = workbook.add_worksheet()\n",
        "\n",
        "    table_entries = table.get_table_entries()\n",
        "\n",
        "    table_roi = image[table.y:table.y + table.h, table.x:table.x + table.w]\n",
        "    table_roi = cv.resize(table_roi, (table.w * mult, table.h * mult))\n",
        "\n",
        "    cv.imwrite(out + table_name, table_roi)\n",
        "    num_img = 0\n",
        "    for i in range(len(table_entries)):\n",
        "        row = table_entries[i]\n",
        "        for j in range(len(row)):\n",
        "            entry = row[j]\n",
        "            entry_roi = table_roi[entry[1] * mult: (entry[1] + entry[3]) * mult, entry[0] * mult:(entry[0] + entry[2]) * mult]\n",
        "            fname = out + \"table/cell\" + str(num_img) + \".jpg\"\n",
        "            cv.imwrite(fname, entry_roi)\n",
        "#            fname = run_textcleaner(fname, num_img)\n",
        "            text = run_tesseract(fname, num_img, psm, oem)\n",
        "            num_img += 1\n",
        "            worksheet.write(i, j, text)\n",
        "\n",
        "workbook.close()"
      ],
      "execution_count": 0,
      "outputs": []
    }
  ]
}