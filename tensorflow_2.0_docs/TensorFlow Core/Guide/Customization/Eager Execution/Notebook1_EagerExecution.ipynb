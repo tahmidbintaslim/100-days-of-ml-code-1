{
  "nbformat": 4,
  "nbformat_minor": 0,
  "metadata": {
    "colab": {
      "name": "Notebook1-Customization-EagerExecution.ipynb",
      "provenance": [],
      "collapsed_sections": [
        "LkE6plKRlhwU",
        "ljVXcMivlUnb",
        "RZH0hS3xmh2k",
        "xBhFGXeUm1HM",
        "6e-ZL73ZprAw",
        "382FzfLRyteN",
        "k4YbmD1nU40R",
        "QF7BwiXTWo0o",
        "eh0zRYCMXSv_",
        "xg53JUwbZ859",
        "VjNvKKklaoQ-",
        "2hWVk_OEbv70",
        "6jqyIp2D0vPs",
        "-IsvNGiDYzvr",
        "N3KoBmiTb5II"
      ],
      "include_colab_link": true
    },
    "kernelspec": {
      "name": "python3",
      "display_name": "Python 3"
    },
    "accelerator": "GPU"
  },
  "cells": [
    {
      "cell_type": "markdown",
      "metadata": {
        "id": "view-in-github",
        "colab_type": "text"
      },
      "source": [
        "<a href=\"https://colab.research.google.com/github/sourcecode369/100-days-of-ml-code/blob/master/tensorflow_2.0_docs/TensorFlow%20Core/Guide/Customization/Eager%20Execution/Notebook1_EagerExecution.ipynb\" target=\"_parent\"><img src=\"https://colab.research.google.com/assets/colab-badge.svg\" alt=\"Open In Colab\"/></a>"
      ]
    },
    {
      "cell_type": "markdown",
      "metadata": {
        "id": "KPl8yWFTlpAQ",
        "colab_type": "text"
      },
      "source": [
        "### Introduction"
      ]
    },
    {
      "cell_type": "markdown",
      "metadata": {
        "id": "yYZWaoQa1r9s",
        "colab_type": "text"
      },
      "source": [
        "    TensorFlow's eager execution is an imperative programming environment that evaluates operations immediately, without building graphs: operations return concrete values instead of constructing a computational graph to run later. This makes it easy to get started with TensorFlow and debug models, and it reduces boilerplate as well. To follow along with this guide, run the code samples below in an interactive python interpreter.\n",
        "\n",
        "    Eager execution is a flexible machine learning platform for research and experimentation, providing:\n",
        "\n",
        "    An intuitive interface—Structure your code naturally and use Python data structures. Quickly iterate on small models and small data.\n",
        "    Easier debugging—Call ops directly to inspect running models and test changes. Use standard Python debugging tools for immediate error reporting.\n",
        "    Natural control flow—Use Python control flow instead of graph control flow, simplifying the specification of dynamic models.\n",
        "    Eager execution supports most TensorFlow operations and GPU acceleration."
      ]
    },
    {
      "cell_type": "code",
      "metadata": {
        "id": "tcEO-1PnhTzU",
        "colab_type": "code",
        "outputId": "e19ad8fc-5ff4-4d91-d1bf-b9013e0532e3",
        "colab": {
          "base_uri": "https://localhost:8080/",
          "height": 68
        }
      },
      "source": [
        "%%time\n",
        "\n",
        "import tensorflow as tf\n",
        "print(tf.__version__)\n",
        "import cProfile"
      ],
      "execution_count": 1,
      "outputs": [
        {
          "output_type": "stream",
          "text": [
            "1.15.0-rc3\n",
            "CPU times: user 1.23 s, sys: 113 ms, total: 1.35 s\n",
            "Wall time: 1.39 s\n"
          ],
          "name": "stdout"
        }
      ]
    },
    {
      "cell_type": "code",
      "metadata": {
        "id": "ae5L2loDhh3C",
        "colab_type": "code",
        "outputId": "319df1c2-2c3e-4d96-982f-2872ea21f65d",
        "colab": {
          "base_uri": "https://localhost:8080/",
          "height": 51
        }
      },
      "source": [
        "tf.enable_eager_execution()\n",
        "tf.logging.set_verbosity(tf.logging.ERROR)\n",
        "print(tf.executing_eagerly())\n",
        "if tf.config.experimental.list_physical_devices(\"GPU\"):\n",
        "    print(\"GPU is available.\")"
      ],
      "execution_count": 2,
      "outputs": [
        {
          "output_type": "stream",
          "text": [
            "True\n",
            "GPU is available.\n"
          ],
          "name": "stdout"
        }
      ]
    },
    {
      "cell_type": "code",
      "metadata": {
        "id": "eCnaa85niJn5",
        "colab_type": "code",
        "colab": {}
      },
      "source": [
        "x = [[2.]]\n",
        "m = tf.matmul(x, x)"
      ],
      "execution_count": 0,
      "outputs": []
    },
    {
      "cell_type": "code",
      "metadata": {
        "id": "GdAq0jljiXoh",
        "colab_type": "code",
        "outputId": "5201a5a0-db8e-4963-8855-6e7a25b414ff",
        "colab": {
          "base_uri": "https://localhost:8080/",
          "height": 34
        }
      },
      "source": [
        "print(f\"Hello {m}\")"
      ],
      "execution_count": 4,
      "outputs": [
        {
          "output_type": "stream",
          "text": [
            "Hello [[4.]]\n"
          ],
          "name": "stdout"
        }
      ]
    },
    {
      "cell_type": "markdown",
      "metadata": {
        "id": "LkE6plKRlhwU",
        "colab_type": "text"
      },
      "source": [
        "### Tensor to Numpy and Back"
      ]
    },
    {
      "cell_type": "markdown",
      "metadata": {
        "id": "MsS7czkwiah4",
        "colab_type": "text"
      },
      "source": [
        "    Enabling eager execution changes how TensorFlow operations behave—now they immediately evaluate and return their values to Python. tf.Tensor objects reference concrete values instead of symbolic handles to nodes in a computational graph. Since there isn't a computational graph to build and run later in a session, it's easy to inspect results using print() or a debugger. Evaluating, printing, and checking tensor values does not break the flow for computing gradients.\n",
        "\n",
        "    Eager execution works nicely with NumPy. NumPy operations accept tf.Tensor arguments. TensorFlow math operations convert Python objects and NumPy arrays to tf.Tensor objects. The tf.Tensor.numpy method returns the object's value as a NumPy ndarray."
      ]
    },
    {
      "cell_type": "code",
      "metadata": {
        "id": "_SQq0PHC1kDA",
        "colab_type": "code",
        "colab": {}
      },
      "source": [
        "import numpy as np"
      ],
      "execution_count": 0,
      "outputs": []
    },
    {
      "cell_type": "code",
      "metadata": {
        "id": "ecrkRSgt2Wo9",
        "colab_type": "code",
        "outputId": "46ba27ce-3092-4970-c0d2-060216b22d2c",
        "colab": {
          "base_uri": "https://localhost:8080/",
          "height": 119
        }
      },
      "source": [
        "a = tf.random.uniform((2,2))\n",
        "b = tf.add(a, 1)\n",
        "print(a)\n",
        "print(b)"
      ],
      "execution_count": 0,
      "outputs": [
        {
          "output_type": "stream",
          "text": [
            "tf.Tensor(\n",
            "[[0.82237065 0.593189  ]\n",
            " [0.59490836 0.26099694]], shape=(2, 2), dtype=float32)\n",
            "tf.Tensor(\n",
            "[[1.8223706 1.593189 ]\n",
            " [1.5949084 1.2609969]], shape=(2, 2), dtype=float32)\n"
          ],
          "name": "stdout"
        }
      ]
    },
    {
      "cell_type": "code",
      "metadata": {
        "id": "t7iEMRLgkkBB",
        "colab_type": "code",
        "outputId": "385f2a56-df3b-421b-bb5f-a7e906484e93",
        "colab": {
          "base_uri": "https://localhost:8080/",
          "height": 68
        }
      },
      "source": [
        "print(a*b)"
      ],
      "execution_count": 0,
      "outputs": [
        {
          "output_type": "stream",
          "text": [
            "tf.Tensor(\n",
            "[[1.4986641  0.9450622 ]\n",
            " [0.9488243  0.32911634]], shape=(2, 2), dtype=float32)\n"
          ],
          "name": "stdout"
        }
      ]
    },
    {
      "cell_type": "code",
      "metadata": {
        "id": "k1lIDEZXkpGA",
        "colab_type": "code",
        "colab": {}
      },
      "source": [
        "c = np.multiply(a,b)"
      ],
      "execution_count": 0,
      "outputs": []
    },
    {
      "cell_type": "code",
      "metadata": {
        "id": "6blhiLViktZP",
        "colab_type": "code",
        "outputId": "3dba1c3b-fd5f-4f38-ab77-26afbedd3d5a",
        "colab": {
          "base_uri": "https://localhost:8080/",
          "height": 51
        }
      },
      "source": [
        "print(c)"
      ],
      "execution_count": 0,
      "outputs": [
        {
          "output_type": "stream",
          "text": [
            "[[1.4986641  0.9450622 ]\n",
            " [0.9488243  0.32911634]]\n"
          ],
          "name": "stdout"
        }
      ]
    },
    {
      "cell_type": "code",
      "metadata": {
        "id": "zqW72t4Dkvd7",
        "colab_type": "code",
        "outputId": "1c064acd-6b01-4230-b8e4-c2d5336eaf90",
        "colab": {
          "base_uri": "https://localhost:8080/",
          "height": 34
        }
      },
      "source": [
        "c.dtype"
      ],
      "execution_count": 0,
      "outputs": [
        {
          "output_type": "execute_result",
          "data": {
            "text/plain": [
              "dtype('float32')"
            ]
          },
          "metadata": {
            "tags": []
          },
          "execution_count": 10
        }
      ]
    },
    {
      "cell_type": "code",
      "metadata": {
        "id": "-Wbueoaok0wX",
        "colab_type": "code",
        "outputId": "dd76a820-a0aa-4699-e99e-7617c4770692",
        "colab": {
          "base_uri": "https://localhost:8080/",
          "height": 51
        }
      },
      "source": [
        "a.numpy()"
      ],
      "execution_count": 0,
      "outputs": [
        {
          "output_type": "execute_result",
          "data": {
            "text/plain": [
              "array([[0.82237065, 0.593189  ],\n",
              "       [0.59490836, 0.26099694]], dtype=float32)"
            ]
          },
          "metadata": {
            "tags": []
          },
          "execution_count": 13
        }
      ]
    },
    {
      "cell_type": "code",
      "metadata": {
        "id": "f1Y7sQTMk3qp",
        "colab_type": "code",
        "outputId": "04444bd2-b7f9-49eb-df2f-7d733c0bcf5f",
        "colab": {
          "base_uri": "https://localhost:8080/",
          "height": 34
        }
      },
      "source": [
        "a.dtype"
      ],
      "execution_count": 0,
      "outputs": [
        {
          "output_type": "execute_result",
          "data": {
            "text/plain": [
              "tf.float32"
            ]
          },
          "metadata": {
            "tags": []
          },
          "execution_count": 14
        }
      ]
    },
    {
      "cell_type": "code",
      "metadata": {
        "id": "sRaPP1Yjk-vP",
        "colab_type": "code",
        "colab": {}
      },
      "source": [
        "b = tf.add(a, 1)"
      ],
      "execution_count": 0,
      "outputs": []
    },
    {
      "cell_type": "code",
      "metadata": {
        "id": "MunzOLNxlAU8",
        "colab_type": "code",
        "outputId": "41a11331-90ea-4450-b3d9-8dbed1a2c04c",
        "colab": {
          "base_uri": "https://localhost:8080/",
          "height": 34
        }
      },
      "source": [
        "b.dtype"
      ],
      "execution_count": 0,
      "outputs": [
        {
          "output_type": "execute_result",
          "data": {
            "text/plain": [
              "tf.float32"
            ]
          },
          "metadata": {
            "tags": []
          },
          "execution_count": 18
        }
      ]
    },
    {
      "cell_type": "code",
      "metadata": {
        "id": "0jryqgUDlI_1",
        "colab_type": "code",
        "colab": {}
      },
      "source": [
        "c = a*b"
      ],
      "execution_count": 0,
      "outputs": []
    },
    {
      "cell_type": "code",
      "metadata": {
        "id": "ffOL9oCJlJjw",
        "colab_type": "code",
        "outputId": "9c77face-fb4e-46f9-d1f1-63e312b17d9e",
        "colab": {
          "base_uri": "https://localhost:8080/",
          "height": 34
        }
      },
      "source": [
        "c.dtype"
      ],
      "execution_count": 0,
      "outputs": [
        {
          "output_type": "execute_result",
          "data": {
            "text/plain": [
              "tf.float32"
            ]
          },
          "metadata": {
            "tags": []
          },
          "execution_count": 21
        }
      ]
    },
    {
      "cell_type": "code",
      "metadata": {
        "id": "uT9lAdf_lN69",
        "colab_type": "code",
        "outputId": "61f211db-bd28-454b-af41-67d27a8eea94",
        "colab": {
          "base_uri": "https://localhost:8080/",
          "height": 34
        }
      },
      "source": [
        "c = tf.multiply(a,b)\n",
        "c.dtype"
      ],
      "execution_count": 0,
      "outputs": [
        {
          "output_type": "execute_result",
          "data": {
            "text/plain": [
              "tf.float32"
            ]
          },
          "metadata": {
            "tags": []
          },
          "execution_count": 22
        }
      ]
    },
    {
      "cell_type": "markdown",
      "metadata": {
        "id": "ljVXcMivlUnb",
        "colab_type": "text"
      },
      "source": [
        "### Dynamic Control Flow"
      ]
    },
    {
      "cell_type": "code",
      "metadata": {
        "id": "o1mwSr_tlfJt",
        "colab_type": "code",
        "colab": {}
      },
      "source": [
        "def fizzbuzz(max_num):\n",
        "    counter = tf.constant(0)\n",
        "    max_num = tf.convert_to_tensor(max_num)\n",
        "    for num in range(1, max_num.numpy()+1):\n",
        "        num = tf.constant(num)\n",
        "        if int(num%3) == 0 and int(num % 5)==0:\n",
        "            print(\"FizzBuzz\")\n",
        "        elif int(num%3)==0:\n",
        "            print(\"Fizz\")\n",
        "        elif int(num%5) == 0:\n",
        "            print(\"Buzz\")\n",
        "        else:\n",
        "            print(num.numpy())\n",
        "        counter += 1"
      ],
      "execution_count": 0,
      "outputs": []
    },
    {
      "cell_type": "code",
      "metadata": {
        "id": "7IkU371Rmgdk",
        "colab_type": "code",
        "outputId": "bc2cadd3-a08c-45f9-8366-8381c36292b3",
        "colab": {
          "base_uri": "https://localhost:8080/",
          "height": 272
        }
      },
      "source": [
        "fizzbuzz(15)"
      ],
      "execution_count": 0,
      "outputs": [
        {
          "output_type": "stream",
          "text": [
            "1\n",
            "2\n",
            "Fizz\n",
            "4\n",
            "Buzz\n",
            "Fizz\n",
            "7\n",
            "8\n",
            "Fizz\n",
            "Buzz\n",
            "11\n",
            "Fizz\n",
            "13\n",
            "14\n",
            "FizzBuzz\n"
          ],
          "name": "stdout"
        }
      ]
    },
    {
      "cell_type": "markdown",
      "metadata": {
        "id": "RZH0hS3xmh2k",
        "colab_type": "text"
      },
      "source": [
        "### Eager Training"
      ]
    },
    {
      "cell_type": "markdown",
      "metadata": {
        "id": "xBhFGXeUm1HM",
        "colab_type": "text"
      },
      "source": [
        "#### Computing Gradients"
      ]
    },
    {
      "cell_type": "markdown",
      "metadata": {
        "id": "fci8vb40m35j",
        "colab_type": "text"
      },
      "source": [
        "    Automatic differentiation is useful for implementing machine learning algorithms such as backpropagation for training neural networks. During eager execution, use tf.GradientTape to trace operations for computing gradients later.\n",
        "\n",
        "    You can use tf.GradientTape to train and/or compute gradients in eager. It is especially useful for complicated training loops.\n",
        "\n",
        "    Since different operations can occur during each call, all forward-pass operations get recorded to a \"tape\". To compute the gradient, play the tape backwards and then discard. A particular tf.GradientTape can only compute one gradient; subsequent calls throw a runtime error."
      ]
    },
    {
      "cell_type": "code",
      "metadata": {
        "id": "h_wv9Nu6neKk",
        "colab_type": "code",
        "outputId": "35e0da5b-b541-407d-fef0-36f2180953b3",
        "colab": {
          "base_uri": "https://localhost:8080/",
          "height": 34
        }
      },
      "source": [
        "w = tf.Variable(2.0)\n",
        "with tf.GradientTape() as tape:\n",
        "    loss = tf.multiply(w, w)\n",
        "grad = tape.gradient(loss, w)\n",
        "print(grad)"
      ],
      "execution_count": 0,
      "outputs": [
        {
          "output_type": "stream",
          "text": [
            "tf.Tensor(4.0, shape=(), dtype=float32)\n"
          ],
          "name": "stdout"
        }
      ]
    },
    {
      "cell_type": "code",
      "metadata": {
        "id": "zjAtjBNAn1gy",
        "colab_type": "code",
        "outputId": "32c69d91-fae2-4cb6-f62a-a5251070023c",
        "colab": {
          "base_uri": "https://localhost:8080/",
          "height": 34
        }
      },
      "source": [
        "x = tf.cast(tf.constant(2), tf.float32)\n",
        "w = tf.Variable(1, dtype=tf.float32)\n",
        "b = tf.Variable(1, dtype=tf.float32)\n",
        "with tf.GradientTape() as tape:\n",
        "    a = 1 / (1+tf.exp(-(w*x+b)))\n",
        "#grad_w = tape.gradient(a,w)\n",
        "grad_b = tape.gradient(a,b)\n",
        "#print(grad_w)\n",
        "print(grad_b)"
      ],
      "execution_count": 0,
      "outputs": [
        {
          "output_type": "stream",
          "text": [
            "tf.Tensor(0.04517666, shape=(), dtype=float32)\n"
          ],
          "name": "stdout"
        }
      ]
    },
    {
      "cell_type": "markdown",
      "metadata": {
        "id": "6e-ZL73ZprAw",
        "colab_type": "text"
      },
      "source": [
        "#### Train a model"
      ]
    },
    {
      "cell_type": "code",
      "metadata": {
        "id": "By5GCTdStFyW",
        "colab_type": "code",
        "outputId": "af38dd58-732a-4657-e727-e846a9aeac1c",
        "colab": {
          "base_uri": "https://localhost:8080/",
          "height": 71
        }
      },
      "source": [
        "(mnist_images, mnist_labels), _ = tf.keras.datasets.mnist.load_data()"
      ],
      "execution_count": 0,
      "outputs": [
        {
          "output_type": "stream",
          "text": [
            "Downloading data from https://storage.googleapis.com/tensorflow/tf-keras-datasets/mnist.npz\n",
            "11493376/11490434 [==============================] - 0s 0us/step\n"
          ],
          "name": "stdout"
        }
      ]
    },
    {
      "cell_type": "code",
      "metadata": {
        "id": "oE2J2x_XtNhJ",
        "colab_type": "code",
        "colab": {}
      },
      "source": [
        "# Fetch and format the mnist data\n",
        "dataset = tf.data.Dataset.from_tensor_slices(\n",
        "  (tf.cast(mnist_images[...,tf.newaxis]/255, tf.float32),\n",
        "   tf.cast(mnist_labels,tf.int64)))\n",
        "dataset = dataset.shuffle(1000).batch(32)"
      ],
      "execution_count": 0,
      "outputs": []
    },
    {
      "cell_type": "code",
      "metadata": {
        "id": "ELn_nkBOttCw",
        "colab_type": "code",
        "colab": {}
      },
      "source": [
        "model = tf.keras.Sequential([\n",
        "                             tf.keras.layers.Conv2D(16, [3,3],\n",
        "                                                    activation=\"relu\", input_shape=(None, None, 1)),\n",
        "                             tf.keras.layers.Conv2D(16, [3,3], activation=\"relu\"),\n",
        "                             tf.keras.layers.GlobalAveragePooling2D(),\n",
        "                             tf.keras.layers.Dense(10)\n",
        "])"
      ],
      "execution_count": 0,
      "outputs": []
    },
    {
      "cell_type": "code",
      "metadata": {
        "id": "mQJAuyusulb9",
        "colab_type": "code",
        "outputId": "9b9f8d02-83f7-43de-bd17-12ee508a9eab",
        "colab": {
          "base_uri": "https://localhost:8080/",
          "height": 71
        }
      },
      "source": [
        "for images, labels in dataset.take(1):\n",
        "    print(\"Logits: \", model(images[0:1]).numpy())"
      ],
      "execution_count": 0,
      "outputs": [
        {
          "output_type": "stream",
          "text": [
            "Logits:  [[-0.01847591  0.02100354 -0.0464275   0.0271399  -0.04827709  0.02196214\n",
            "   0.00383322  0.01180129  0.04914055  0.03366013]]\n"
          ],
          "name": "stdout"
        }
      ]
    },
    {
      "cell_type": "code",
      "metadata": {
        "id": "lrL9C9IMu5xq",
        "colab_type": "code",
        "colab": {}
      },
      "source": [
        "optimizer = tf.keras.optimizers.Nadam()\n",
        "loss_object = tf.keras.losses.SparseCategoricalCrossentropy(from_logits=True)\n",
        "loss_history = []"
      ],
      "execution_count": 0,
      "outputs": []
    },
    {
      "cell_type": "code",
      "metadata": {
        "id": "qOv6QJIpvfgC",
        "colab_type": "code",
        "colab": {}
      },
      "source": [
        "def train_step(images, labels):\n",
        "  with tf.GradientTape() as tape:\n",
        "    logits = model(images, training=True)\n",
        "    \n",
        "    # Add asserts to check the shape of the output.\n",
        "    tf.debugging.assert_equal(logits.shape, (32, 10))\n",
        "    \n",
        "    loss_value = loss_object(labels, logits)\n",
        "\n",
        "  loss_history.append(loss_value.numpy().mean())\n",
        "  grads = tape.gradient(loss_value, model.trainable_variables)\n",
        "  optimizer.apply_gradients(zip(grads, model.trainable_variables))"
      ],
      "execution_count": 0,
      "outputs": []
    },
    {
      "cell_type": "code",
      "metadata": {
        "id": "FRg43ev4wh6R",
        "colab_type": "code",
        "colab": {}
      },
      "source": [
        "def train():\n",
        "  for epoch in range(3):\n",
        "    for (batch, (images, labels)) in enumerate(dataset):\n",
        "      train_step(images, labels)\n",
        "    print ('Epoch {} finished'.format(epoch))"
      ],
      "execution_count": 0,
      "outputs": []
    },
    {
      "cell_type": "code",
      "metadata": {
        "id": "oSnkfqNOxAgV",
        "colab_type": "code",
        "outputId": "e3a6f003-5035-4129-de5f-348330f40841",
        "colab": {
          "base_uri": "https://localhost:8080/",
          "height": 68
        }
      },
      "source": [
        "train()"
      ],
      "execution_count": 0,
      "outputs": [
        {
          "output_type": "stream",
          "text": [
            "Epoch 0 finished\n",
            "Epoch 1 finished\n",
            "Epoch 2 finished\n"
          ],
          "name": "stdout"
        }
      ]
    },
    {
      "cell_type": "code",
      "metadata": {
        "id": "M_ww1vfixB7y",
        "colab_type": "code",
        "outputId": "a21aa70d-58fa-4aeb-d9d2-a62110455429",
        "colab": {
          "base_uri": "https://localhost:8080/",
          "height": 297
        }
      },
      "source": [
        "import matplotlib.pyplot as plt\n",
        "%matplotlib inline\n",
        "%config InlineBackend.figure_format = \"retina\"\n",
        "\n",
        "plt.plot(loss_history)\n",
        "plt.xlabel(\"Batch#\")\n",
        "plt.ylabel(\"Loss [entropy]\")"
      ],
      "execution_count": 0,
      "outputs": [
        {
          "output_type": "execute_result",
          "data": {
            "text/plain": [
              "Text(0, 0.5, 'Loss [entropy]')"
            ]
          },
          "metadata": {
            "tags": []
          },
          "execution_count": 79
        },
        {
          "output_type": "display_data",
          "data": {
            "image/png": "[encoded data removed]",
            "text/plain": [
              "<Figure size 432x288 with 1 Axes>"
            ]
          },
          "metadata": {
            "tags": [],
            "image/png": {
              "width": 396,
              "height": 263
            }
          }
        }
      ]
    },
    {
      "cell_type": "markdown",
      "metadata": {
        "id": "382FzfLRyteN",
        "colab_type": "text"
      },
      "source": [
        "#### Variables and Optimizers"
      ]
    },
    {
      "cell_type": "markdown",
      "metadata": {
        "id": "WuHNUyY0y8ZX",
        "colab_type": "text"
      },
      "source": [
        "* `tf.Variable` objects store mutable `tf.Tensor` values accessed during training to make automatic differentiation easier. The parameters of a model can be encapsulated in classes as variables.\n",
        "\n",
        "* Better encapsulate model parameters by using `tf.Variable` with `tf.GradientTape`."
      ]
    },
    {
      "cell_type": "code",
      "metadata": {
        "id": "f13JpVVARc5A",
        "colab_type": "code",
        "colab": {}
      },
      "source": [
        "import matplotlib.pyplot as plt\n",
        "%matplotlib inline\n",
        "%config InlineBackend.figure_format = \"retina\""
      ],
      "execution_count": 0,
      "outputs": []
    },
    {
      "cell_type": "code",
      "metadata": {
        "id": "x_fYwY88QKwU",
        "colab_type": "code",
        "colab": {}
      },
      "source": [
        "class Model(tf.keras.Model):\n",
        "    def __init__(self):\n",
        "        super(Model, self).__init__()\n",
        "        self.W = tf.Variable(5., name=\"weight\")\n",
        "        self.B = tf.Variable(10., name=\"bias\")\n",
        "    def call(self, inputs):\n",
        "        return inputs*self.W + self.B"
      ],
      "execution_count": 0,
      "outputs": []
    },
    {
      "cell_type": "code",
      "metadata": {
        "id": "tdRL1OfWQ8Uw",
        "colab_type": "code",
        "colab": {}
      },
      "source": [
        "NUM_EXAMPLES = 2000\n",
        "training_inputs = tf.random.normal([NUM_EXAMPLES])\n",
        "noise = tf.random.normal([NUM_EXAMPLES])\n",
        "training_outputs = training_inputs * 3 + 2 + noise "
      ],
      "execution_count": 0,
      "outputs": []
    },
    {
      "cell_type": "code",
      "metadata": {
        "id": "vAqbDGN6RU3v",
        "colab_type": "code",
        "colab": {
          "base_uri": "https://localhost:8080/",
          "height": 284
        },
        "outputId": "142f3aec-d107-4d74-c1e7-c7eb56f93804"
      },
      "source": [
        "plt.scatter(training_inputs.numpy(), training_outputs.numpy())"
      ],
      "execution_count": 12,
      "outputs": [
        {
          "output_type": "execute_result",
          "data": {
            "text/plain": [
              "<matplotlib.collections.PathCollection at 0x7f5813d45fd0>"
            ]
          },
          "metadata": {
            "tags": []
          },
          "execution_count": 12
        },
        {
          "output_type": "display_data",
          "data": {
            "image/png": "[encoded data removed]",
            "text/plain": [
              "<Figure size 432x288 with 1 Axes>"
            ]
          },
          "metadata": {
            "tags": [],
            "image/png": {
              "width": 379,
              "height": 250
            }
          }
        }
      ]
    },
    {
      "cell_type": "code",
      "metadata": {
        "id": "Tx1t2wxhRXwH",
        "colab_type": "code",
        "colab": {}
      },
      "source": [
        "def loss(model, inputs, targets):\n",
        "    error = model(inputs) - targets\n",
        "    return tf.reduce_mean(tf.square(error))\n",
        "\n",
        "def grad(model, inputs, targets):\n",
        "    with tf.GradientTape() as tape:\n",
        "        loss_value = loss(model, inputs, targets)\n",
        "    return tape.gradient(loss_value, [model.W, model.B])"
      ],
      "execution_count": 0,
      "outputs": []
    },
    {
      "cell_type": "code",
      "metadata": {
        "id": "b84iaRo_SUu1",
        "colab_type": "code",
        "colab": {
          "base_uri": "https://localhost:8080/",
          "height": 34
        },
        "outputId": "25f32c0b-4110-4ac4-fe94-943a44cb653b"
      },
      "source": [
        "model = Model()\n",
        "optimizer = tf.keras.optimizers.SGD(learning_rate=0.001)\n",
        "\n",
        "print(\"Initial Loss: {:.3f}\".format(loss(model, training_inputs, training_outputs)))"
      ],
      "execution_count": 33,
      "outputs": [
        {
          "output_type": "stream",
          "text": [
            "Initial Loss: 67.961\n"
          ],
          "name": "stdout"
        }
      ]
    },
    {
      "cell_type": "code",
      "metadata": {
        "id": "ZSssy4owSrxY",
        "colab_type": "code",
        "colab": {
          "base_uri": "https://localhost:8080/",
          "height": 901
        },
        "outputId": "e80dbece-b3e8-45a8-fe5f-6fa74a5c0396"
      },
      "source": [
        "for i in range(1000):\n",
        "    grads = grad(model, training_inputs, training_outputs)\n",
        "    optimizer.apply_gradients(zip(grads, [model.W, model.B]))\n",
        "    if i % 20 == 0:\n",
        "        print(\"Loss at step {}: {:.3f}\".format(i, loss(model, training_inputs, training_outputs)))\n",
        "print(\"Final loss: {:.3f}\".format(loss(model, training_inputs, training_outputs)))\n",
        "print(\"W = {}, B = {}\".format(model.W.numpy(), model.B.numpy()))"
      ],
      "execution_count": 34,
      "outputs": [
        {
          "output_type": "stream",
          "text": [
            "Loss at step 0: 67.695\n",
            "Loss at step 20: 62.593\n",
            "Loss at step 40: 57.882\n",
            "Loss at step 60: 53.532\n",
            "Loss at step 80: 49.514\n",
            "Loss at step 100: 45.804\n",
            "Loss at step 120: 42.378\n",
            "Loss at step 140: 39.214\n",
            "Loss at step 160: 36.292\n",
            "Loss at step 180: 33.594\n",
            "Loss at step 200: 31.102\n",
            "Loss at step 220: 28.801\n",
            "Loss at step 240: 26.676\n",
            "Loss at step 260: 24.714\n",
            "Loss at step 280: 22.902\n",
            "Loss at step 300: 21.229\n",
            "Loss at step 320: 19.683\n",
            "Loss at step 340: 18.256\n",
            "Loss at step 360: 16.939\n",
            "Loss at step 380: 15.722\n",
            "Loss at step 400: 14.598\n",
            "Loss at step 420: 13.560\n",
            "Loss at step 440: 12.602\n",
            "Loss at step 460: 11.716\n",
            "Loss at step 480: 10.899\n",
            "Loss at step 500: 10.144\n",
            "Loss at step 520: 9.447\n",
            "Loss at step 540: 8.804\n",
            "Loss at step 560: 8.209\n",
            "Loss at step 580: 7.660\n",
            "Loss at step 600: 7.153\n",
            "Loss at step 620: 6.685\n",
            "Loss at step 640: 6.253\n",
            "Loss at step 660: 5.854\n",
            "Loss at step 680: 5.485\n",
            "Loss at step 700: 5.145\n",
            "Loss at step 720: 4.830\n",
            "Loss at step 740: 4.540\n",
            "Loss at step 760: 4.272\n",
            "Loss at step 780: 4.024\n",
            "Loss at step 800: 3.796\n",
            "Loss at step 820: 3.584\n",
            "Loss at step 840: 3.389\n",
            "Loss at step 860: 3.209\n",
            "Loss at step 880: 3.043\n",
            "Loss at step 900: 2.890\n",
            "Loss at step 920: 2.748\n",
            "Loss at step 940: 2.617\n",
            "Loss at step 960: 2.496\n",
            "Loss at step 980: 2.384\n",
            "Final loss: 2.286\n",
            "W = 3.314810037612915, B = 3.120025396347046\n"
          ],
          "name": "stdout"
        }
      ]
    },
    {
      "cell_type": "markdown",
      "metadata": {
        "id": "k4YbmD1nU40R",
        "colab_type": "text"
      },
      "source": [
        "### Use objects for state during Eager Execution"
      ]
    },
    {
      "cell_type": "markdown",
      "metadata": {
        "id": "mUC2xTZpVxMo",
        "colab_type": "text"
      },
      "source": [
        "With TF 1.x graph execution, program state (such as the variables) is stored in global collections and their lifetime is managed by the **`tf.Session`** object. In contrast, during eager execution the lifetime of state objects is determined by the lifetime of their corresponding Python object."
      ]
    },
    {
      "cell_type": "markdown",
      "metadata": {
        "id": "QF7BwiXTWo0o",
        "colab_type": "text"
      },
      "source": [
        "#### Variables are objects"
      ]
    },
    {
      "cell_type": "markdown",
      "metadata": {
        "id": "6uqUK5qjWtSA",
        "colab_type": "text"
      },
      "source": [
        "During eager execution, variables persist until the last refence to the object is removed, and is then deleted."
      ]
    },
    {
      "cell_type": "code",
      "metadata": {
        "id": "yAjLgGMuW8qn",
        "colab_type": "code",
        "colab": {
          "base_uri": "https://localhost:8080/",
          "height": 289
        },
        "outputId": "e805bb1f-8f8d-4605-f919-8c0f9be4b1c2"
      },
      "source": [
        "if tf.config.experimental.list_physical_devices(\"GPU\"):\n",
        "    with tf.device(\"gpu:0\"):\n",
        "        print(\"GPU Enabled.\")\n",
        "        v = tf.Variable(tf.random.normal([1000,1000]))\n",
        "        print(v)\n",
        "        v = None\n",
        "        print(v)"
      ],
      "execution_count": 41,
      "outputs": [
        {
          "output_type": "stream",
          "text": [
            "GPU Enabled.\n",
            "<tf.Variable 'Variable:0' shape=(1000, 1000) dtype=float32, numpy=\n",
            "array([[ 0.3255783 , -0.6169362 ,  0.43665835, ..., -1.0714504 ,\n",
            "        -1.2599674 ,  1.1579587 ],\n",
            "       [-0.05953751,  1.1687886 ,  0.5065513 , ..., -1.1292311 ,\n",
            "        -0.45400357, -0.23305419],\n",
            "       [ 0.9571142 ,  0.5325105 ,  1.0441504 , ..., -0.6537792 ,\n",
            "        -0.9641364 ,  0.9732646 ],\n",
            "       ...,\n",
            "       [ 0.14705166, -0.27131662,  1.2570797 , ..., -0.7222952 ,\n",
            "         1.5734929 , -1.331245  ],\n",
            "       [-0.4067429 ,  0.9427616 , -0.4261187 , ...,  0.48473   ,\n",
            "         1.6015052 , -0.3550602 ],\n",
            "       [-0.0164848 , -0.6445583 , -0.28807586, ...,  0.41901675,\n",
            "         1.2697902 ,  1.4744117 ]], dtype=float32)>\n",
            "None\n"
          ],
          "name": "stdout"
        }
      ]
    },
    {
      "cell_type": "markdown",
      "metadata": {
        "id": "eh0zRYCMXSv_",
        "colab_type": "text"
      },
      "source": [
        "#### Object Based Saving"
      ]
    },
    {
      "cell_type": "markdown",
      "metadata": {
        "id": "CmPyfJQwXaD_",
        "colab_type": "text"
      },
      "source": [
        "`tf.train.Checkpoint` can save and restore tf.Variables to and from checkpoints:\n",
        "\n"
      ]
    },
    {
      "cell_type": "code",
      "metadata": {
        "id": "Yxr4H55lXmoV",
        "colab_type": "code",
        "colab": {}
      },
      "source": [
        "x = tf.Variable(10.)\n",
        "checkpoint = tf.train.Checkpoint(x=x)"
      ],
      "execution_count": 0,
      "outputs": []
    },
    {
      "cell_type": "code",
      "metadata": {
        "id": "7BedT15cXvrC",
        "colab_type": "code",
        "colab": {
          "base_uri": "https://localhost:8080/",
          "height": 34
        },
        "outputId": "204de8de-e069-4f07-eb02-43aa3b50fc33"
      },
      "source": [
        "x.assign(2)\n",
        "checkpoint_path = './ckpt/'\n",
        "checkpoint.save('./ckpt/')"
      ],
      "execution_count": 43,
      "outputs": [
        {
          "output_type": "execute_result",
          "data": {
            "text/plain": [
              "'./ckpt/-1'"
            ]
          },
          "metadata": {
            "tags": []
          },
          "execution_count": 43
        }
      ]
    },
    {
      "cell_type": "code",
      "metadata": {
        "id": "O7Nw0nvRX-Y7",
        "colab_type": "code",
        "colab": {
          "base_uri": "https://localhost:8080/",
          "height": 34
        },
        "outputId": "9bf0c2e8-2c1a-4a02-956f-7d7dfe87c5af"
      },
      "source": [
        "x.assign(11)\n",
        "\n",
        "checkpoint.restore(tf.train.latest_checkpoint(checkpoint_path))\n",
        "print(x)"
      ],
      "execution_count": 44,
      "outputs": [
        {
          "output_type": "stream",
          "text": [
            "<tf.Variable 'Variable:0' shape=() dtype=float32, numpy=2.0>\n"
          ],
          "name": "stdout"
        }
      ]
    },
    {
      "cell_type": "markdown",
      "metadata": {
        "id": "ncdaa3Y-YJJn",
        "colab_type": "text"
      },
      "source": [
        "To save and load models, tf.train.Checkpoint stores the internal state of objects, \n",
        "without requiring hidden variables. To record the state of a model, an optimizer, and a global step, pass them to a tf.train.Checkpoint:"
      ]
    },
    {
      "cell_type": "code",
      "metadata": {
        "id": "Q7Qrl834YSLf",
        "colab_type": "code",
        "colab": {
          "base_uri": "https://localhost:8080/",
          "height": 34
        },
        "outputId": "f2d176ca-3832-445c-8eed-fa1943696c61"
      },
      "source": [
        "import os\n",
        "model = tf.keras.Sequential(\n",
        "    [\n",
        "     tf.keras.layers.Dense(10, activation=\"relu\"),\n",
        "     tf.keras.layers.Dropout(0.2),\n",
        "     tf.keras.layers.Dense(1, activation=tf.nn.softmax)\n",
        "    ]\n",
        ")\n",
        "optimizer = tf.keras.optimizers.Adam(learning_rate=0.001)\n",
        "\n",
        "checkpoint_dir = 'path/to/model_dir'\n",
        "if not os.path.exists(checkpoint_dir):\n",
        "    os.makedirs(checkpoint_dir)\n",
        "\n",
        "checkpoint_prefix = os.path.join(checkpoint_dir, \"ckpt\")\n",
        "\n",
        "root = tf.train.Checkpoint(optimizer = optimizer, model = model)\n",
        "root.save(checkpoint_prefix)\n",
        "root.restore(tf.train.latest_checkpoint(checkpoint_prefix))"
      ],
      "execution_count": 46,
      "outputs": [
        {
          "output_type": "execute_result",
          "data": {
            "text/plain": [
              "<tensorflow.python.training.tracking.util.InitializationOnlyStatus at 0x7f580e97b780>"
            ]
          },
          "metadata": {
            "tags": []
          },
          "execution_count": 46
        }
      ]
    },
    {
      "cell_type": "markdown",
      "metadata": {
        "id": "ZuNW_5NnZwvI",
        "colab_type": "text"
      },
      "source": [
        "    Note: In many training loops, variables are created after tf.train.Checkpoint.restore is called. These variables will be restored as soon as they are created, and assertions are available to ensure that a checkpoint has been fully loaded. See the guide to training checkpoints for details."
      ]
    },
    {
      "cell_type": "markdown",
      "metadata": {
        "id": "xg53JUwbZ859",
        "colab_type": "text"
      },
      "source": [
        "#### Object Oriented Metrics"
      ]
    },
    {
      "cell_type": "markdown",
      "metadata": {
        "id": "VDvudlI_aM3s",
        "colab_type": "text"
      },
      "source": [
        "    tf.keras.metrics are stored as objects. Update a metric by passing the new data to the callable, and retrieve the result using the tf.keras.metrics.result method, for example:"
      ]
    },
    {
      "cell_type": "code",
      "metadata": {
        "id": "SievSittaeoV",
        "colab_type": "code",
        "colab": {
          "base_uri": "https://localhost:8080/",
          "height": 51
        },
        "outputId": "9d2e9617-839a-47c6-ce9d-05b850392c94"
      },
      "source": [
        "mean = tf.keras.metrics.Mean(name=\"loss\")\n",
        "mean(0)\n",
        "mean(5)\n",
        "mean(10)\n",
        "print(mean.result().numpy())\n",
        "\n",
        "mean([8, 9])\n",
        "print(mean.result().numpy())"
      ],
      "execution_count": 53,
      "outputs": [
        {
          "output_type": "stream",
          "text": [
            "5.0\n",
            "6.4\n"
          ],
          "name": "stdout"
        }
      ]
    },
    {
      "cell_type": "markdown",
      "metadata": {
        "id": "VjNvKKklaoQ-",
        "colab_type": "text"
      },
      "source": [
        "#### Summaries and TensorBoard"
      ]
    },
    {
      "cell_type": "markdown",
      "metadata": {
        "id": "hCk_1JOdbM9L",
        "colab_type": "text"
      },
      "source": [
        "TensorBoard is a visualization tool for understanding, debugging and optimizing the model training process. \n",
        "\n",
        "It uses summary events that are written while executing the program.\n",
        "\n",
        "You can use tf.summary to record summaries of variable in eager execution. \n",
        "For example, to record summaries of loss once every 100 training steps:"
      ]
    },
    {
      "cell_type": "code",
      "metadata": {
        "id": "l94K7MYHbWm-",
        "colab_type": "code",
        "colab": {}
      },
      "source": [
        "# logdir = \"./tb/\"\n",
        "# writer = tf.summary.create_file_writer(logdir)\n",
        "\n",
        "# with writer.as_default():\n",
        "#   for i in range(1000):\n",
        "#     step = i + 1\n",
        "#     # Calculate loss with your real train function.\n",
        "#     loss = 1 - 0.001 * step\n",
        "#     if step % 100 == 0:\n",
        "#       tf.summary.scalar('loss', loss, step=step)"
      ],
      "execution_count": 0,
      "outputs": []
    },
    {
      "cell_type": "markdown",
      "metadata": {
        "id": "2hWVk_OEbv70",
        "colab_type": "text"
      },
      "source": [
        "### Advanced automatic differentiation"
      ]
    },
    {
      "cell_type": "markdown",
      "metadata": {
        "id": "6jqyIp2D0vPs",
        "colab_type": "text"
      },
      "source": [
        "#### Dynamic models"
      ]
    },
    {
      "cell_type": "code",
      "metadata": {
        "id": "OqDaTUIkYDlI",
        "colab_type": "code",
        "colab": {}
      },
      "source": [
        "def line_search_step(fn, init_x, rate=1.0):\n",
        "    with tf.GradientTape() as tape:\n",
        "        tape.watch(init_x)\n",
        "        value = fn(init_x)\n",
        "    grad = tape.gradient(value, init_x)\n",
        "    grad_norm = tf.reduce_sum(grad * grad)\n",
        "    init_value = init_value\n",
        "    while value > init_value - rate * grad_norm:\n",
        "        x = init-x - rate * grad\n",
        "        value = fn(x)\n",
        "        rate /= 2.0\n",
        "    return x, value"
      ],
      "execution_count": 0,
      "outputs": []
    },
    {
      "cell_type": "markdown",
      "metadata": {
        "id": "-IsvNGiDYzvr",
        "colab_type": "text"
      },
      "source": [
        "#### Custom Gradients"
      ]
    },
    {
      "cell_type": "code",
      "metadata": {
        "id": "iCTN5J7fZGGI",
        "colab_type": "code",
        "colab": {}
      },
      "source": [
        "@tf.custom_gradient\n",
        "def clip_gradient_by_norm(x, norm):\n",
        "    y = tf.identity(x)\n",
        "    def grad_fn(dresult):\n",
        "        return [tf.clip_by_norm(dresult, norm), None]\n",
        "    return y, grad_fn"
      ],
      "execution_count": 0,
      "outputs": []
    },
    {
      "cell_type": "code",
      "metadata": {
        "id": "c4VP9zSLZkgA",
        "colab_type": "code",
        "colab": {}
      },
      "source": [
        "def log1exp(x):\n",
        "    return tf.math.log(1 + tf.exp(x))\n",
        "\n",
        "def grad_log1exp(x):\n",
        "    with tf.GradientTape() as tape:\n",
        "        tape.watch(x)\n",
        "        value = log1exp(x)\n",
        "    return tape.gradient(value, x)"
      ],
      "execution_count": 0,
      "outputs": []
    },
    {
      "cell_type": "code",
      "metadata": {
        "id": "_pNMWCm8Z5AH",
        "colab_type": "code",
        "colab": {
          "base_uri": "https://localhost:8080/",
          "height": 34
        },
        "outputId": "81daf797-bf2b-4f97-fdd1-9de228ee2da8"
      },
      "source": [
        "grad_log1exp(tf.constant(0.)).numpy()"
      ],
      "execution_count": 6,
      "outputs": [
        {
          "output_type": "execute_result",
          "data": {
            "text/plain": [
              "0.5"
            ]
          },
          "metadata": {
            "tags": []
          },
          "execution_count": 6
        }
      ]
    },
    {
      "cell_type": "code",
      "metadata": {
        "id": "_M7pbMDHZ87w",
        "colab_type": "code",
        "colab": {
          "base_uri": "https://localhost:8080/",
          "height": 34
        },
        "outputId": "b13b5104-d83b-4707-e497-dd30085a4d4a"
      },
      "source": [
        "grad_log1exp(tf.constant(100.)).numpy()"
      ],
      "execution_count": 8,
      "outputs": [
        {
          "output_type": "execute_result",
          "data": {
            "text/plain": [
              "nan"
            ]
          },
          "metadata": {
            "tags": []
          },
          "execution_count": 8
        }
      ]
    },
    {
      "cell_type": "code",
      "metadata": {
        "id": "hujslqFIbDUH",
        "colab_type": "code",
        "colab": {}
      },
      "source": [
        "@tf.custom_gradient\n",
        "def log1pexp(x):\n",
        "    e = tf.exp(x)\n",
        "    def grad(dy):\n",
        "        return dy * (1 - 1 / (1 + e))\n",
        "    return tf.math.log(1 + e), grad\n",
        "\n",
        "def grad_log1exp(x):\n",
        "    with tf.GradientTape() as tape:\n",
        "        tape.watch(x)\n",
        "        value = log1pexp(x)\n",
        "    return tape.gradient(value, x)"
      ],
      "execution_count": 0,
      "outputs": []
    },
    {
      "cell_type": "code",
      "metadata": {
        "id": "UHspi_E4bx13",
        "colab_type": "code",
        "colab": {
          "base_uri": "https://localhost:8080/",
          "height": 34
        },
        "outputId": "c76cddc8-2a8b-4f03-c23d-91c304bc6d9b"
      },
      "source": [
        "grad_log1exp(tf.constant(100.)).numpy()"
      ],
      "execution_count": 11,
      "outputs": [
        {
          "output_type": "execute_result",
          "data": {
            "text/plain": [
              "1.0"
            ]
          },
          "metadata": {
            "tags": []
          },
          "execution_count": 11
        }
      ]
    },
    {
      "cell_type": "code",
      "metadata": {
        "id": "D28FJ4blbzB4",
        "colab_type": "code",
        "colab": {
          "base_uri": "https://localhost:8080/",
          "height": 34
        },
        "outputId": "34fed5d4-9d57-4035-dee8-0a8dd6873258"
      },
      "source": [
        "grad_log1exp(tf.constant(0.)).numpy()"
      ],
      "execution_count": 12,
      "outputs": [
        {
          "output_type": "execute_result",
          "data": {
            "text/plain": [
              "0.5"
            ]
          },
          "metadata": {
            "tags": []
          },
          "execution_count": 12
        }
      ]
    },
    {
      "cell_type": "markdown",
      "metadata": {
        "id": "N3KoBmiTb5II",
        "colab_type": "text"
      },
      "source": [
        "### Performance"
      ]
    },
    {
      "cell_type": "markdown",
      "metadata": {
        "id": "ZimOjY-YgJEO",
        "colab_type": "text"
      },
      "source": [
        "Computation is automatically offloaded to GPUs during eager execution. If you want control over where a computation runs you can enclose it in a `tf.device('/gpu:0')` block (or the CPU equivalent):"
      ]
    },
    {
      "cell_type": "code",
      "metadata": {
        "id": "rcIIrPDgb-_3",
        "colab_type": "code",
        "colab": {
          "base_uri": "https://localhost:8080/",
          "height": 68
        },
        "outputId": "d9ac5a7a-8d9a-45a5-f9e4-0f2ea777d2da"
      },
      "source": [
        "import time \n",
        "def measure(x, steps):\n",
        "    start = time.time()\n",
        "    for i in range(steps):\n",
        "        x = tf.matmul(x, x)\n",
        "    _ = x.numpy()\n",
        "    end = time.time()\n",
        "    return end - start\n",
        "\n",
        "shape = (1000, 1000)\n",
        "steps = 1000\n",
        "print(\"Time to multiply a {} matrix by itself {} times: \".format(shape, steps))\n",
        "\n",
        "with tf.device(\"/cpu:0\"):\n",
        "    print(\"CPU: {} secs\".format(measure(tf.random.normal(shape), steps)))\n",
        "\n",
        "if tf.config.experimental.list_physical_devices(\"GPU\"):\n",
        "    with tf.device(\"/gpu:0\"):\n",
        "        print(\"GPU: {} secs\".format(measure(tf.random.uniform(shape), steps)))\n",
        "else :\n",
        "    print(\"GPU: Not Found.!\")"
      ],
      "execution_count": 16,
      "outputs": [
        {
          "output_type": "stream",
          "text": [
            "Time to multiply a (1000, 1000) matrix by itself 1000 times: \n",
            "CPU: 35.48453378677368 secs\n",
            "GPU: 1.0357615947723389 secs\n"
          ],
          "name": "stdout"
        }
      ]
    },
    {
      "cell_type": "markdown",
      "metadata": {
        "id": "Jp2tvioFfPeP",
        "colab_type": "text"
      },
      "source": [
        "A `tf.Tensor` object can be copied to a different device to execute its operations:\n",
        "\n"
      ]
    },
    {
      "cell_type": "code",
      "metadata": {
        "id": "kz4VWXhUgnG_",
        "colab_type": "code",
        "colab": {}
      },
      "source": [
        "if tf.config.experimental.list_physical_devices(\"GPU\"):\n",
        "    x = tf.random.normal([10, 10])\n",
        "    x_gpu0 = x.gpu()\n",
        "    x_cpu = x.cpu()\n",
        "    _ = tf.matmul(x_cpu, x_cpu)\n",
        "    _ = tf.matmul(x_gpu0, x_gpu0)"
      ],
      "execution_count": 0,
      "outputs": []
    },
    {
      "cell_type": "markdown",
      "metadata": {
        "id": "TIc0diuDg8nK",
        "colab_type": "text"
      },
      "source": [
        "### Benchmarks \n",
        "    "
      ]
    },
    {
      "cell_type": "markdown",
      "metadata": {
        "id": "d8Vzj5Q5hctl",
        "colab_type": "text"
      },
      "source": [
        "For compute-heavy models, such as ResNet50 training on a GPU, eager execution performance is comparable to tf.function execution. But this gap grows larger for models with less computation and there is work to be done for optimizing hot code paths for models with lots of small operations."
      ]
    },
    {
      "cell_type": "markdown",
      "metadata": {
        "id": "bF073nIchL9R",
        "colab_type": "text"
      },
      "source": [
        "### Work with functions"
      ]
    },
    {
      "cell_type": "markdown",
      "metadata": {
        "id": "3gjRoMT6hUPp",
        "colab_type": "text"
      },
      "source": [
        "    While eager execution makes development and debugging more interactive, TensorFlow 1.x style graph execution has advantages for distributed training, performance optimizations, and production deployment. To bridge this gap, TensorFlow 2.0 introduces functions via the tf.function API. For more information, see the tf.function guide."
      ]
    }
  ]
}