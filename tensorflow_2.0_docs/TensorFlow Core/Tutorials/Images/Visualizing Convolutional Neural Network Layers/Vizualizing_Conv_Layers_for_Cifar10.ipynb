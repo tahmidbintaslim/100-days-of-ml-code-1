{
  "nbformat": 4,
  "nbformat_minor": 0,
  "metadata": {
    "colab": {
      "name": "Vizualizing Conv Layers for Cifar10.ipynb",
      "provenance": [],
      "include_colab_link": true
    },
    "kernelspec": {
      "name": "python3",
      "display_name": "Python 3"
    },
    "accelerator": "GPU"
  },
  "cells": [
    {
      "cell_type": "markdown",
      "metadata": {
        "id": "view-in-github",
        "colab_type": "text"
      },
      "source": [
        "<a href=\"https://colab.research.google.com/github/sourcecode369/100-days-of-ml-code/blob/master/tensorflow_2.0_docs/TensorFlow%20Core/Tutorials/Images/Visualizing%20Convolutional%20Neural%20Network%20Layers/Vizualizing_Conv_Layers_for_Cifar10.ipynb\" target=\"_parent\"><img src=\"https://colab.research.google.com/assets/colab-badge.svg\" alt=\"Open In Colab\"/></a>"
      ]
    },
    {
      "cell_type": "code",
      "metadata": {
        "id": "kzhPE5YMa6OI",
        "colab_type": "code",
        "colab": {
          "base_uri": "https://localhost:8080/",
          "height": 666
        },
        "outputId": "ed990cf6-0194-4a5a-d1bb-31246312c43b"
      },
      "source": [
        "!pip install --upgrade tensorflow-gpu"
      ],
      "execution_count": 1,
      "outputs": [
        {
          "output_type": "stream",
          "text": [
            "Collecting tensorflow-gpu\n",
            "\u001b[?25l  Downloading https://files.pythonhosted.org/packages/25/44/47f0722aea081697143fbcf5d2aa60d1aee4aaacb5869aee2b568974777b/tensorflow_gpu-2.0.0-cp36-cp36m-manylinux2010_x86_64.whl (380.8MB)\n",
            "\u001b[K     |████████████████████████████████| 380.8MB 47kB/s \n",
            "\u001b[?25hRequirement already satisfied, skipping upgrade: keras-applications>=1.0.8 in /usr/local/lib/python3.6/dist-packages (from tensorflow-gpu) (1.0.8)\n",
            "Requirement already satisfied, skipping upgrade: opt-einsum>=2.3.2 in /usr/local/lib/python3.6/dist-packages (from tensorflow-gpu) (3.1.0)\n",
            "Collecting tensorboard<2.1.0,>=2.0.0\n",
            "\u001b[?25l  Downloading https://files.pythonhosted.org/packages/9b/a6/e8ffa4e2ddb216449d34cfcb825ebb38206bee5c4553d69e7bc8bc2c5d64/tensorboard-2.0.0-py3-none-any.whl (3.8MB)\n",
            "\u001b[K     |████████████████████████████████| 3.8MB 29.3MB/s \n",
            "\u001b[?25hRequirement already satisfied, skipping upgrade: termcolor>=1.1.0 in /usr/local/lib/python3.6/dist-packages (from tensorflow-gpu) (1.1.0)\n",
            "Requirement already satisfied, skipping upgrade: wrapt>=1.11.1 in /usr/local/lib/python3.6/dist-packages (from tensorflow-gpu) (1.11.2)\n",
            "Requirement already satisfied, skipping upgrade: six>=1.10.0 in /usr/local/lib/python3.6/dist-packages (from tensorflow-gpu) (1.12.0)\n",
            "Requirement already satisfied, skipping upgrade: astor>=0.6.0 in /usr/local/lib/python3.6/dist-packages (from tensorflow-gpu) (0.8.0)\n",
            "Requirement already satisfied, skipping upgrade: numpy<2.0,>=1.16.0 in /usr/local/lib/python3.6/dist-packages (from tensorflow-gpu) (1.17.3)\n",
            "Collecting tensorflow-estimator<2.1.0,>=2.0.0\n",
            "\u001b[?25l  Downloading https://files.pythonhosted.org/packages/fc/08/8b927337b7019c374719145d1dceba21a8bb909b93b1ad6f8fb7d22c1ca1/tensorflow_estimator-2.0.1-py2.py3-none-any.whl (449kB)\n",
            "\u001b[K     |████████████████████████████████| 450kB 51.3MB/s \n",
            "\u001b[?25hRequirement already satisfied, skipping upgrade: absl-py>=0.7.0 in /usr/local/lib/python3.6/dist-packages (from tensorflow-gpu) (0.8.1)\n",
            "Requirement already satisfied, skipping upgrade: gast==0.2.2 in /usr/local/lib/python3.6/dist-packages (from tensorflow-gpu) (0.2.2)\n",
            "Requirement already satisfied, skipping upgrade: grpcio>=1.8.6 in /usr/local/lib/python3.6/dist-packages (from tensorflow-gpu) (1.15.0)\n",
            "Requirement already satisfied, skipping upgrade: wheel>=0.26 in /usr/local/lib/python3.6/dist-packages (from tensorflow-gpu) (0.33.6)\n",
            "Requirement already satisfied, skipping upgrade: keras-preprocessing>=1.0.5 in /usr/local/lib/python3.6/dist-packages (from tensorflow-gpu) (1.1.0)\n",
            "Requirement already satisfied, skipping upgrade: google-pasta>=0.1.6 in /usr/local/lib/python3.6/dist-packages (from tensorflow-gpu) (0.1.7)\n",
            "Requirement already satisfied, skipping upgrade: protobuf>=3.6.1 in /usr/local/lib/python3.6/dist-packages (from tensorflow-gpu) (3.10.0)\n",
            "Requirement already satisfied, skipping upgrade: h5py in /usr/local/lib/python3.6/dist-packages (from keras-applications>=1.0.8->tensorflow-gpu) (2.8.0)\n",
            "Requirement already satisfied, skipping upgrade: markdown>=2.6.8 in /usr/local/lib/python3.6/dist-packages (from tensorboard<2.1.0,>=2.0.0->tensorflow-gpu) (3.1.1)\n",
            "Requirement already satisfied, skipping upgrade: werkzeug>=0.11.15 in /usr/local/lib/python3.6/dist-packages (from tensorboard<2.1.0,>=2.0.0->tensorflow-gpu) (0.16.0)\n",
            "Requirement already satisfied, skipping upgrade: setuptools>=41.0.0 in /usr/local/lib/python3.6/dist-packages (from tensorboard<2.1.0,>=2.0.0->tensorflow-gpu) (41.4.0)\n",
            "\u001b[31mERROR: tensorflow 1.15.0 has requirement tensorboard<1.16.0,>=1.15.0, but you'll have tensorboard 2.0.0 which is incompatible.\u001b[0m\n",
            "\u001b[31mERROR: tensorflow 1.15.0 has requirement tensorflow-estimator==1.15.1, but you'll have tensorflow-estimator 2.0.1 which is incompatible.\u001b[0m\n",
            "Installing collected packages: tensorboard, tensorflow-estimator, tensorflow-gpu\n",
            "  Found existing installation: tensorboard 1.15.0\n",
            "    Uninstalling tensorboard-1.15.0:\n",
            "      Successfully uninstalled tensorboard-1.15.0\n",
            "  Found existing installation: tensorflow-estimator 1.15.1\n",
            "    Uninstalling tensorflow-estimator-1.15.1:\n",
            "      Successfully uninstalled tensorflow-estimator-1.15.1\n",
            "Successfully installed tensorboard-2.0.0 tensorflow-estimator-2.0.1 tensorflow-gpu-2.0.0\n"
          ],
          "name": "stdout"
        }
      ]
    },
    {
      "cell_type": "code",
      "metadata": {
        "id": "Ae-FUpAnav3x",
        "colab_type": "code",
        "colab": {}
      },
      "source": [
        "import tensorflow as tf"
      ],
      "execution_count": 0,
      "outputs": []
    },
    {
      "cell_type": "code",
      "metadata": {
        "id": "gVNvZzbXa1VT",
        "colab_type": "code",
        "colab": {}
      },
      "source": [
        "(X_train, y_train), (X_test, y_test) = tf.keras.datasets.cifar10.load_data()"
      ],
      "execution_count": 0,
      "outputs": []
    },
    {
      "cell_type": "code",
      "metadata": {
        "id": "1G5ZtzfolW3E",
        "colab_type": "code",
        "colab": {
          "base_uri": "https://localhost:8080/",
          "height": 34
        },
        "outputId": "a514baf3-a3e0-42dd-e06c-c9a2138bd047"
      },
      "source": [
        "y_train.shape"
      ],
      "execution_count": 92,
      "outputs": [
        {
          "output_type": "execute_result",
          "data": {
            "text/plain": [
              "(50000, 1)"
            ]
          },
          "metadata": {
            "tags": []
          },
          "execution_count": 92
        }
      ]
    },
    {
      "cell_type": "code",
      "metadata": {
        "id": "M6bRL0aolB4d",
        "colab_type": "code",
        "colab": {}
      },
      "source": [
        "X_train, X_test = X_train.reshape(50000,32,32,3) / 255.0, X_test.reshape(10000,32,32,3) / 255.0"
      ],
      "execution_count": 0,
      "outputs": []
    },
    {
      "cell_type": "code",
      "metadata": {
        "id": "qpkly0fckunZ",
        "colab_type": "code",
        "colab": {
          "base_uri": "https://localhost:8080/",
          "height": 34
        },
        "outputId": "c05e22ea-b09b-439a-eb2e-8f802bf6b9ce"
      },
      "source": [
        "X_train.shape"
      ],
      "execution_count": 95,
      "outputs": [
        {
          "output_type": "execute_result",
          "data": {
            "text/plain": [
              "(50000, 32, 32, 3)"
            ]
          },
          "metadata": {
            "tags": []
          },
          "execution_count": 95
        }
      ]
    },
    {
      "cell_type": "code",
      "metadata": {
        "id": "z47YjirKkwJE",
        "colab_type": "code",
        "colab": {
          "base_uri": "https://localhost:8080/",
          "height": 34
        },
        "outputId": "252c04a7-f4ee-4ba7-dec8-36f772e21d62"
      },
      "source": [
        "X_test.shape"
      ],
      "execution_count": 96,
      "outputs": [
        {
          "output_type": "execute_result",
          "data": {
            "text/plain": [
              "(10000, 32, 32, 3)"
            ]
          },
          "metadata": {
            "tags": []
          },
          "execution_count": 96
        }
      ]
    },
    {
      "cell_type": "code",
      "metadata": {
        "id": "U8oTB3NRbrlc",
        "colab_type": "code",
        "colab": {}
      },
      "source": [
        "model = tf.keras.Sequential([\n",
        "                             tf.keras.layers.Conv2D(32,(3,3),activation=tf.nn.relu,input_shape=X_train.shape[1:]),\n",
        "                             tf.keras.layers.MaxPooling2D(2,2),\n",
        "                             tf.keras.layers.Conv2D(64,(3,3),activation=tf.nn.relu),\n",
        "                             tf.keras.layers.MaxPooling2D(2,2),\n",
        "                             tf.keras.layers.Conv2D(128,(3,3),activation=tf.nn.relu),\n",
        "                             tf.keras.layers.MaxPooling2D(2,2),\n",
        "                             tf.keras.layers.Flatten(),\n",
        "                             tf.keras.layers.Dense(1024, activation=tf.nn.relu),\n",
        "                             tf.keras.layers.Dense(512, activation=tf.nn.relu),\n",
        "                             tf.keras.layers.Dense(10, activation=tf.nn.softmax)\n",
        "])"
      ],
      "execution_count": 0,
      "outputs": []
    },
    {
      "cell_type": "code",
      "metadata": {
        "id": "252DvangcwNp",
        "colab_type": "code",
        "colab": {}
      },
      "source": [
        "model.compile(optimizer=\"adam\",loss=\"sparse_categorical_crossentropy\",metrics=[\"accuracy\"])"
      ],
      "execution_count": 0,
      "outputs": []
    },
    {
      "cell_type": "code",
      "metadata": {
        "id": "2jnhvxEQc7KV",
        "colab_type": "code",
        "colab": {
          "base_uri": "https://localhost:8080/",
          "height": 493
        },
        "outputId": "bbac6201-1968-4670-f02d-b6d1ea6a936d"
      },
      "source": [
        "model.summary()"
      ],
      "execution_count": 103,
      "outputs": [
        {
          "output_type": "stream",
          "text": [
            "Model: \"sequential_5\"\n",
            "_________________________________________________________________\n",
            "Layer (type)                 Output Shape              Param #   \n",
            "=================================================================\n",
            "conv2d_15 (Conv2D)           (None, 30, 30, 32)        896       \n",
            "_________________________________________________________________\n",
            "max_pooling2d_15 (MaxPooling (None, 15, 15, 32)        0         \n",
            "_________________________________________________________________\n",
            "conv2d_16 (Conv2D)           (None, 13, 13, 64)        18496     \n",
            "_________________________________________________________________\n",
            "max_pooling2d_16 (MaxPooling (None, 6, 6, 64)          0         \n",
            "_________________________________________________________________\n",
            "conv2d_17 (Conv2D)           (None, 4, 4, 128)         73856     \n",
            "_________________________________________________________________\n",
            "max_pooling2d_17 (MaxPooling (None, 2, 2, 128)         0         \n",
            "_________________________________________________________________\n",
            "flatten_5 (Flatten)          (None, 512)               0         \n",
            "_________________________________________________________________\n",
            "dense_10 (Dense)             (None, 1024)              525312    \n",
            "_________________________________________________________________\n",
            "dense_11 (Dense)             (None, 512)               524800    \n",
            "_________________________________________________________________\n",
            "dense_12 (Dense)             (None, 10)                5130      \n",
            "=================================================================\n",
            "Total params: 1,148,490\n",
            "Trainable params: 1,148,490\n",
            "Non-trainable params: 0\n",
            "_________________________________________________________________\n"
          ],
          "name": "stdout"
        }
      ]
    },
    {
      "cell_type": "code",
      "metadata": {
        "id": "CLmg2L2Ec8VW",
        "colab_type": "code",
        "colab": {
          "base_uri": "https://localhost:8080/",
          "height": 731
        },
        "outputId": "74b8ac67-af93-4f63-a6e1-4a3382309aaf"
      },
      "source": [
        "model.fit(X_train, y_train, batch_size=512,epochs=20,verbose=1,validation_split=0.2)"
      ],
      "execution_count": 104,
      "outputs": [
        {
          "output_type": "stream",
          "text": [
            "Train on 40000 samples, validate on 10000 samples\n",
            "Epoch 1/20\n",
            "40000/40000 [==============================] - 4s 105us/sample - loss: 1.8424 - accuracy: 0.3232 - val_loss: 1.6061 - val_accuracy: 0.4054\n",
            "Epoch 2/20\n",
            "40000/40000 [==============================] - 3s 77us/sample - loss: 1.4657 - accuracy: 0.4641 - val_loss: 1.4648 - val_accuracy: 0.4534\n",
            "Epoch 3/20\n",
            "40000/40000 [==============================] - 3s 78us/sample - loss: 1.2993 - accuracy: 0.5305 - val_loss: 1.2869 - val_accuracy: 0.5348\n",
            "Epoch 4/20\n",
            "40000/40000 [==============================] - 3s 77us/sample - loss: 1.1910 - accuracy: 0.5745 - val_loss: 1.1872 - val_accuracy: 0.5820\n",
            "Epoch 5/20\n",
            "40000/40000 [==============================] - 3s 79us/sample - loss: 1.0896 - accuracy: 0.6138 - val_loss: 1.1726 - val_accuracy: 0.5815\n",
            "Epoch 6/20\n",
            "40000/40000 [==============================] - 3s 77us/sample - loss: 1.0188 - accuracy: 0.6401 - val_loss: 1.1232 - val_accuracy: 0.6070\n",
            "Epoch 7/20\n",
            "40000/40000 [==============================] - 3s 78us/sample - loss: 0.9614 - accuracy: 0.6592 - val_loss: 1.0133 - val_accuracy: 0.6490\n",
            "Epoch 8/20\n",
            "40000/40000 [==============================] - 3s 78us/sample - loss: 0.9066 - accuracy: 0.6804 - val_loss: 1.0003 - val_accuracy: 0.6549\n",
            "Epoch 9/20\n",
            "40000/40000 [==============================] - 3s 78us/sample - loss: 0.8399 - accuracy: 0.7042 - val_loss: 0.9228 - val_accuracy: 0.6839\n",
            "Epoch 10/20\n",
            "40000/40000 [==============================] - 3s 78us/sample - loss: 0.7747 - accuracy: 0.7322 - val_loss: 1.0005 - val_accuracy: 0.6579\n",
            "Epoch 11/20\n",
            "40000/40000 [==============================] - 3s 78us/sample - loss: 0.7455 - accuracy: 0.7392 - val_loss: 0.9496 - val_accuracy: 0.6728\n",
            "Epoch 12/20\n",
            "40000/40000 [==============================] - 3s 78us/sample - loss: 0.6892 - accuracy: 0.7580 - val_loss: 0.9479 - val_accuracy: 0.6795\n",
            "Epoch 13/20\n",
            "40000/40000 [==============================] - 3s 78us/sample - loss: 0.6480 - accuracy: 0.7721 - val_loss: 1.0461 - val_accuracy: 0.6556\n",
            "Epoch 14/20\n",
            "40000/40000 [==============================] - 3s 78us/sample - loss: 0.6249 - accuracy: 0.7821 - val_loss: 0.9769 - val_accuracy: 0.6748\n",
            "Epoch 15/20\n",
            "40000/40000 [==============================] - 3s 79us/sample - loss: 0.5774 - accuracy: 0.7979 - val_loss: 0.9556 - val_accuracy: 0.6839\n",
            "Epoch 16/20\n",
            "40000/40000 [==============================] - 3s 78us/sample - loss: 0.5254 - accuracy: 0.8164 - val_loss: 0.9766 - val_accuracy: 0.6853\n",
            "Epoch 17/20\n",
            "40000/40000 [==============================] - 3s 78us/sample - loss: 0.4860 - accuracy: 0.8304 - val_loss: 0.9994 - val_accuracy: 0.6856\n",
            "Epoch 18/20\n",
            "40000/40000 [==============================] - 3s 79us/sample - loss: 0.4350 - accuracy: 0.8471 - val_loss: 1.0987 - val_accuracy: 0.6743\n",
            "Epoch 19/20\n",
            "40000/40000 [==============================] - 3s 78us/sample - loss: 0.4309 - accuracy: 0.8475 - val_loss: 0.9806 - val_accuracy: 0.7003\n",
            "Epoch 20/20\n",
            "40000/40000 [==============================] - 3s 79us/sample - loss: 0.3668 - accuracy: 0.8713 - val_loss: 1.0010 - val_accuracy: 0.7092\n"
          ],
          "name": "stdout"
        },
        {
          "output_type": "execute_result",
          "data": {
            "text/plain": [
              "<tensorflow.python.keras.callbacks.History at 0x7f84ae47c588>"
            ]
          },
          "metadata": {
            "tags": []
          },
          "execution_count": 104
        }
      ]
    },
    {
      "cell_type": "code",
      "metadata": {
        "id": "RrI6BuoudOsl",
        "colab_type": "code",
        "colab": {
          "base_uri": "https://localhost:8080/",
          "height": 51
        },
        "outputId": "ec4ff7d1-8502-4ba8-a407-f7d62a37fb66"
      },
      "source": [
        "model.evaluate(X_test, y_test, verbose=2)"
      ],
      "execution_count": 105,
      "outputs": [
        {
          "output_type": "stream",
          "text": [
            "10000/1 - 1s - loss: 1.0086 - accuracy: 0.7047\n"
          ],
          "name": "stdout"
        },
        {
          "output_type": "execute_result",
          "data": {
            "text/plain": [
              "[0.9989368481636047, 0.7047]"
            ]
          },
          "metadata": {
            "tags": []
          },
          "execution_count": 105
        }
      ]
    },
    {
      "cell_type": "markdown",
      "metadata": {
        "id": "TUEsrCVfeAON",
        "colab_type": "text"
      },
      "source": [
        "### Vizualizing intermediate representations"
      ]
    },
    {
      "cell_type": "code",
      "metadata": {
        "id": "-WiG1NO2ePh8",
        "colab_type": "code",
        "colab": {}
      },
      "source": [
        "sucessive_outputs = [layer.output for layer in model.layers[1:]]"
      ],
      "execution_count": 0,
      "outputs": []
    },
    {
      "cell_type": "code",
      "metadata": {
        "id": "TfmQDHgGeaMt",
        "colab_type": "code",
        "colab": {
          "base_uri": "https://localhost:8080/",
          "height": 170
        },
        "outputId": "c0dd2178-df5b-44d7-c044-0892d8673d50"
      },
      "source": [
        "sucessive_outputs"
      ],
      "execution_count": 107,
      "outputs": [
        {
          "output_type": "execute_result",
          "data": {
            "text/plain": [
              "[<tf.Tensor 'max_pooling2d_15/Identity:0' shape=(None, 15, 15, 32) dtype=float32>,\n",
              " <tf.Tensor 'conv2d_16/Identity:0' shape=(None, 13, 13, 64) dtype=float32>,\n",
              " <tf.Tensor 'max_pooling2d_16/Identity:0' shape=(None, 6, 6, 64) dtype=float32>,\n",
              " <tf.Tensor 'conv2d_17/Identity:0' shape=(None, 4, 4, 128) dtype=float32>,\n",
              " <tf.Tensor 'max_pooling2d_17/Identity:0' shape=(None, 2, 2, 128) dtype=float32>,\n",
              " <tf.Tensor 'flatten_5/Identity:0' shape=(None, 512) dtype=float32>,\n",
              " <tf.Tensor 'dense_10/Identity:0' shape=(None, 1024) dtype=float32>,\n",
              " <tf.Tensor 'dense_11/Identity:0' shape=(None, 512) dtype=float32>,\n",
              " <tf.Tensor 'dense_12/Identity:0' shape=(None, 10) dtype=float32>]"
            ]
          },
          "metadata": {
            "tags": []
          },
          "execution_count": 107
        }
      ]
    },
    {
      "cell_type": "code",
      "metadata": {
        "id": "ZIrYfYeneb9f",
        "colab_type": "code",
        "colab": {}
      },
      "source": [
        "visualization_model = tf.keras.models.Model(inputs = model.input, outputs = sucessive_outputs)"
      ],
      "execution_count": 0,
      "outputs": []
    },
    {
      "cell_type": "code",
      "metadata": {
        "id": "XYicRQtheyfA",
        "colab_type": "code",
        "colab": {
          "base_uri": "https://localhost:8080/",
          "height": 527
        },
        "outputId": "e65a6488-5155-449a-fef3-b4c57f921eb5"
      },
      "source": [
        "visualization_model.summary()"
      ],
      "execution_count": 109,
      "outputs": [
        {
          "output_type": "stream",
          "text": [
            "Model: \"model_2\"\n",
            "_________________________________________________________________\n",
            "Layer (type)                 Output Shape              Param #   \n",
            "=================================================================\n",
            "conv2d_15_input (InputLayer) [(None, 32, 32, 3)]       0         \n",
            "_________________________________________________________________\n",
            "conv2d_15 (Conv2D)           (None, 30, 30, 32)        896       \n",
            "_________________________________________________________________\n",
            "max_pooling2d_15 (MaxPooling (None, 15, 15, 32)        0         \n",
            "_________________________________________________________________\n",
            "conv2d_16 (Conv2D)           (None, 13, 13, 64)        18496     \n",
            "_________________________________________________________________\n",
            "max_pooling2d_16 (MaxPooling (None, 6, 6, 64)          0         \n",
            "_________________________________________________________________\n",
            "conv2d_17 (Conv2D)           (None, 4, 4, 128)         73856     \n",
            "_________________________________________________________________\n",
            "max_pooling2d_17 (MaxPooling (None, 2, 2, 128)         0         \n",
            "_________________________________________________________________\n",
            "flatten_5 (Flatten)          (None, 512)               0         \n",
            "_________________________________________________________________\n",
            "dense_10 (Dense)             (None, 1024)              525312    \n",
            "_________________________________________________________________\n",
            "dense_11 (Dense)             (None, 512)               524800    \n",
            "_________________________________________________________________\n",
            "dense_12 (Dense)             (None, 10)                5130      \n",
            "=================================================================\n",
            "Total params: 1,148,490\n",
            "Trainable params: 1,148,490\n",
            "Non-trainable params: 0\n",
            "_________________________________________________________________\n"
          ],
          "name": "stdout"
        }
      ]
    },
    {
      "cell_type": "code",
      "metadata": {
        "id": "fgTmanDAe-ei",
        "colab_type": "code",
        "colab": {
          "base_uri": "https://localhost:8080/",
          "height": 34
        },
        "outputId": "0b596dae-a704-4e5a-d009-1b472775f605"
      },
      "source": [
        "x = X_test[0]\n",
        "x = x.reshape((1,) + x.shape)\n",
        "print(x.shape)"
      ],
      "execution_count": 110,
      "outputs": [
        {
          "output_type": "stream",
          "text": [
            "(1, 32, 32, 3)\n"
          ],
          "name": "stdout"
        }
      ]
    },
    {
      "cell_type": "code",
      "metadata": {
        "id": "FJ8CteMlfE52",
        "colab_type": "code",
        "colab": {}
      },
      "source": [
        "successive_feature_maps = visualization_model.predict(x)"
      ],
      "execution_count": 0,
      "outputs": []
    },
    {
      "cell_type": "code",
      "metadata": {
        "id": "H0sB_0fjfFwb",
        "colab_type": "code",
        "colab": {}
      },
      "source": [
        "layer_names = [layer.name for layer in model.layers]"
      ],
      "execution_count": 0,
      "outputs": []
    },
    {
      "cell_type": "code",
      "metadata": {
        "id": "yGIro29bfhxO",
        "colab_type": "code",
        "colab": {
          "base_uri": "https://localhost:8080/",
          "height": 170
        },
        "outputId": "223d0a24-a175-4d19-ddad-a24b334946ed"
      },
      "source": [
        "for ln, sfm in zip(layer_names,successive_feature_maps):\n",
        "    print(\"\\r\",ln,\":\",sfm.shape)"
      ],
      "execution_count": 113,
      "outputs": [
        {
          "output_type": "stream",
          "text": [
            "\r conv2d_15 : (1, 15, 15, 32)\n",
            "\r max_pooling2d_15 : (1, 13, 13, 64)\n",
            "\r conv2d_16 : (1, 6, 6, 64)\n",
            "\r max_pooling2d_16 : (1, 4, 4, 128)\n",
            "\r conv2d_17 : (1, 2, 2, 128)\n",
            "\r max_pooling2d_17 : (1, 512)\n",
            "\r flatten_5 : (1, 1024)\n",
            "\r dense_10 : (1, 512)\n",
            "\r dense_11 : (1, 10)\n"
          ],
          "name": "stdout"
        }
      ]
    },
    {
      "cell_type": "code",
      "metadata": {
        "id": "ZXp_tXoRisJU",
        "colab_type": "code",
        "colab": {}
      },
      "source": [
        "import matplotlib.pyplot as plt\n",
        "%matplotlib inline"
      ],
      "execution_count": 0,
      "outputs": []
    },
    {
      "cell_type": "code",
      "metadata": {
        "id": "yc9h6YLpjLYx",
        "colab_type": "code",
        "colab": {}
      },
      "source": [
        "import numpy as np"
      ],
      "execution_count": 0,
      "outputs": []
    },
    {
      "cell_type": "code",
      "metadata": {
        "id": "pBQnaKs8fwJk",
        "colab_type": "code",
        "colab": {
          "base_uri": "https://localhost:8080/",
          "height": 399
        },
        "outputId": "2dbdb8f4-8a11-4005-cd9f-d9df88168ac2"
      },
      "source": [
        "for layer_name, feature_map in zip(layer_names, successive_feature_maps):\n",
        "    if len(feature_map.shape)==4:\n",
        "        n_features = feature_map.shape[-1]\n",
        "        size = feature_map.shape[1]\n",
        "\n",
        "        display_grid = np.zeros((size, size*n_features))\n",
        "\n",
        "        for i in range(n_features):\n",
        "            x = feature_map[0, :, :, i]\n",
        "            x -= x.mean()\n",
        "            x /= x.std()\n",
        "            x *= 64\n",
        "            x += 128\n",
        "            x = np.clip(x, 0, 255).astype('uint8')\n",
        "            display_grid[:,i*size : (i+1)*size] = x\n",
        "        scale = 30./ n_features\n",
        "        plt.figure(figsize=(scale*n_features,scale))\n",
        "        plt.title(layer_name)\n",
        "        plt.grid(False)\n",
        "        plt.imshow(display_grid,cmap=plt.cm.binary,aspect='auto')\n",
        "        plt.show()"
      ],
      "execution_count": 118,
      "outputs": [
        {
          "output_type": "display_data",
          "data": {
            "image/png": "[encoded data removed]",
            "text/plain": [
              "<Figure size 2160x67.5 with 1 Axes>"
            ]
          },
          "metadata": {
            "tags": []
          }
        },
        {
          "output_type": "display_data",
          "data": {
            "image/png": "[encoded data removed]",
            "text/plain": [
              "<Figure size 2160x33.75 with 1 Axes>"
            ]
          },
          "metadata": {
            "tags": []
          }
        },
        {
          "output_type": "display_data",
          "data": {
            "image/png": "[encoded data removed]",
            "text/plain": [
              "<Figure size 2160x33.75 with 1 Axes>"
            ]
          },
          "metadata": {
            "tags": []
          }
        },
        {
          "output_type": "display_data",
          "data": {
            "image/png": "[encoded data removed]",
            "text/plain": [
              "<Figure size 2160x16.875 with 1 Axes>"
            ]
          },
          "metadata": {
            "tags": []
          }
        },
        {
          "output_type": "display_data",
          "data": {
            "image/png": "[encoded data removed]",
            "text/plain": [
              "<Figure size 2160x16.875 with 1 Axes>"
            ]
          },
          "metadata": {
            "tags": []
          }
        }
      ]
    },
    {
      "cell_type": "code",
      "metadata": {
        "id": "-H_77C2unH1P",
        "colab_type": "code",
        "colab": {
          "base_uri": "https://localhost:8080/",
          "height": 283
        },
        "outputId": "59eb46cd-9469-4d12-deea-d2d847aba3cc"
      },
      "source": [
        "plt.imshow(X_test[0])"
      ],
      "execution_count": 120,
      "outputs": [
        {
          "output_type": "execute_result",
          "data": {
            "text/plain": [
              "<matplotlib.image.AxesImage at 0x7f84b0533a90>"
            ]
          },
          "metadata": {
            "tags": []
          },
          "execution_count": 120
        },
        {
          "output_type": "display_data",
          "data": {
            "image/png": "[encoded data removed]",
            "text/plain": [
              "<Figure size 432x288 with 1 Axes>"
            ]
          },
          "metadata": {
            "tags": []
          }
        }
      ]
    }
  ]
}