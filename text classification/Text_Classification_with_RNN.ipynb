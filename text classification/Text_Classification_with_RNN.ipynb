{
  "nbformat": 4,
  "nbformat_minor": 0,
  "metadata": {
    "colab": {
      "name": "Text Classification with RNN.ipynb",
      "provenance": [],
      "include_colab_link": true
    },
    "kernelspec": {
      "name": "python3",
      "display_name": "Python 3"
    },
    "accelerator": "GPU"
  },
  "cells": [
    {
      "cell_type": "markdown",
      "metadata": {
        "id": "view-in-github",
        "colab_type": "text"
      },
      "source": [
        "<a href=\"https://colab.research.google.com/github/sourcecode369/100-days-of-ml-code/blob/master/text%20classification/Text_Classification_with_RNN.ipynb\" target=\"_parent\"><img src=\"https://colab.research.google.com/assets/colab-badge.svg\" alt=\"Open In Colab\"/></a>"
      ]
    },
    {
      "cell_type": "code",
      "metadata": {
        "id": "HH7iS9FEiUfk",
        "colab_type": "code",
        "outputId": "fc41a5ec-faf7-4d6a-9bae-6508ec74a09d",
        "colab": {
          "base_uri": "https://localhost:8080/",
          "height": 34
        }
      },
      "source": [
        "from __future__ import absolute_import, print_function, division, unicode_literals\n",
        "%tensorflow_version 2.x\n",
        "import tensorflow_datasets as tfds\n",
        "import tensorflow as tf\n",
        "\n",
        "import matplotlib.pyplot as plt\n",
        "import numpy as np \n",
        "import pandas as pd \n",
        "%matplotlib inline\n",
        "\n",
        "def plot_graphs(hisotry, string):\n",
        "  plt.plot(history.history[string])\n",
        "  plt.plot(history.history['val_'+string],'')\n",
        "  plt.xlabel('Epochs')\n",
        "  plt.ylabel(string)\n",
        "  plt.legend([string, 'val_' + string])\n",
        "  plt.show()"
      ],
      "execution_count": 0,
      "outputs": [
        {
          "output_type": "stream",
          "text": [
            "TensorFlow 2.x selected.\n"
          ],
          "name": "stdout"
        }
      ]
    },
    {
      "cell_type": "code",
      "metadata": {
        "id": "HOXa7ZbajH8a",
        "colab_type": "code",
        "colab": {}
      },
      "source": [
        "dataset, info = tfds.load('imdb_reviews/subwords8k',with_info=True, as_supervised=True)\n",
        "train_dataset, test_dataset = dataset['train'], dataset['test']"
      ],
      "execution_count": 0,
      "outputs": []
    },
    {
      "cell_type": "code",
      "metadata": {
        "id": "omikRKmWjfhJ",
        "colab_type": "code",
        "outputId": "ffb41e26-0e93-4fbe-ad92-752d4d18d54c",
        "colab": {
          "base_uri": "https://localhost:8080/",
          "height": 34
        }
      },
      "source": [
        "encoder = info.features['text'].encoder\n",
        "print('Vocabulary size: {}'.format(encoder.vocab_size))"
      ],
      "execution_count": 0,
      "outputs": [
        {
          "output_type": "stream",
          "text": [
            "Vocabulary size: 8185\n"
          ],
          "name": "stdout"
        }
      ]
    },
    {
      "cell_type": "code",
      "metadata": {
        "id": "1aPY9f_Zjsn3",
        "colab_type": "code",
        "outputId": "76065aff-2020-43e4-dc48-03e8070820b3",
        "colab": {
          "base_uri": "https://localhost:8080/",
          "height": 52
        }
      },
      "source": [
        "sample_string = 'Hello Tensorflow'\n",
        "\n",
        "encoded_string = encoder.encode(sample_string)\n",
        "print('Encoded string is {}'.format(encoded_string))\n",
        "\n",
        "original_string = encoder.decode(encoded_string)\n",
        "print('The original string: {}'.format(original_string))"
      ],
      "execution_count": 0,
      "outputs": [
        {
          "output_type": "stream",
          "text": [
            "Encoded string is [4025, 222, 6307, 2327, 2934]\n",
            "The original string: Hello Tensorflow\n"
          ],
          "name": "stdout"
        }
      ]
    },
    {
      "cell_type": "code",
      "metadata": {
        "id": "3JLkIi0vkPl3",
        "colab_type": "code",
        "colab": {}
      },
      "source": [
        "assert original_string == sample_string"
      ],
      "execution_count": 0,
      "outputs": []
    },
    {
      "cell_type": "code",
      "metadata": {
        "id": "T2wyXciUkUjW",
        "colab_type": "code",
        "outputId": "df004c23-bd21-474f-8eef-386be06158d2",
        "colab": {
          "base_uri": "https://localhost:8080/",
          "height": 105
        }
      },
      "source": [
        "for index in encoded_string:\n",
        "  print(\"{} ----> {}\".format(index, encoder.decode([index])))"
      ],
      "execution_count": 0,
      "outputs": [
        {
          "output_type": "stream",
          "text": [
            "4025 ----> Hell\n",
            "222 ----> o \n",
            "6307 ----> Ten\n",
            "2327 ----> sor\n",
            "2934 ----> flow\n"
          ],
          "name": "stdout"
        }
      ]
    },
    {
      "cell_type": "code",
      "metadata": {
        "id": "1tGh5nntke51",
        "colab_type": "code",
        "colab": {}
      },
      "source": [
        "BUFFER_SIZE = 10000\n",
        "BATCH_SIZE = 64"
      ],
      "execution_count": 0,
      "outputs": []
    },
    {
      "cell_type": "code",
      "metadata": {
        "id": "wecPEBpukmUL",
        "colab_type": "code",
        "colab": {}
      },
      "source": [
        "train_dataset = train_dataset.shuffle(BUFFER_SIZE)\n",
        "train_dataset = train_dataset.padded_batch(BATCH_SIZE, tf.compat.v1.data.get_output_shapes(train_dataset))\n",
        "\n",
        "test_dataset = test_dataset.padded_batch(BATCH_SIZE, tf.compat.v1.data.get_output_shapes(test_dataset))"
      ],
      "execution_count": 0,
      "outputs": []
    },
    {
      "cell_type": "code",
      "metadata": {
        "id": "72IKmeOFk-Wa",
        "colab_type": "code",
        "colab": {}
      },
      "source": [
        "model = tf.keras.Sequential([\n",
        "    tf.keras.layers.Embedding(encoder.vocab_size, 64),\n",
        "    tf.keras.layers.Bidirectional(tf.keras.layers.LSTM(64)),\n",
        "    tf.keras.layers.Dense(256, activation='relu'),\n",
        "    tf.keras.layers.Dense(128, activation='relu'),\n",
        "    tf.keras.layers.Dense(1, activation='sigmoid')\n",
        "])"
      ],
      "execution_count": 0,
      "outputs": []
    },
    {
      "cell_type": "code",
      "metadata": {
        "id": "EhJDVk18mXFR",
        "colab_type": "code",
        "colab": {}
      },
      "source": [
        "model.compile(loss='binary_crossentropy', \n",
        "              optimizer='adam',\n",
        "              metrics=['accuracy'])"
      ],
      "execution_count": 0,
      "outputs": []
    },
    {
      "cell_type": "code",
      "metadata": {
        "id": "pStfZIMumfab",
        "colab_type": "code",
        "outputId": "7067cc86-f099-4e2f-dbcc-b3f80ea9a7a0",
        "colab": {
          "base_uri": "https://localhost:8080/",
          "height": 1000
        }
      },
      "source": [
        "history = model.fit(train_dataset, \n",
        "                    epochs=30, \n",
        "                    validation_data = test_dataset, \n",
        "                    validation_steps = 30,\n",
        "                    verbose=1)"
      ],
      "execution_count": 0,
      "outputs": [
        {
          "output_type": "stream",
          "text": [
            "Epoch 1/30\n",
            "391/391 [==============================] - 59s 151ms/step - loss: 0.5359 - accuracy: 0.7226 - val_loss: 0.6143 - val_accuracy: 0.6589\n",
            "Epoch 2/30\n",
            "391/391 [==============================] - 55s 141ms/step - loss: 0.3705 - accuracy: 0.8470 - val_loss: 0.3867 - val_accuracy: 0.8370\n",
            "Epoch 3/30\n",
            "391/391 [==============================] - 55s 142ms/step - loss: 0.2639 - accuracy: 0.9001 - val_loss: 0.3602 - val_accuracy: 0.8594\n",
            "Epoch 4/30\n",
            "391/391 [==============================] - 55s 142ms/step - loss: 0.2021 - accuracy: 0.9268 - val_loss: 0.4299 - val_accuracy: 0.8073\n",
            "Epoch 5/30\n",
            "391/391 [==============================] - 55s 141ms/step - loss: 0.1824 - accuracy: 0.9325 - val_loss: 0.5956 - val_accuracy: 0.8281\n",
            "Epoch 6/30\n",
            "391/391 [==============================] - 56s 142ms/step - loss: 0.1660 - accuracy: 0.9403 - val_loss: 0.5476 - val_accuracy: 0.7193\n",
            "Epoch 7/30\n",
            "391/391 [==============================] - 55s 141ms/step - loss: 0.1354 - accuracy: 0.9523 - val_loss: 0.6221 - val_accuracy: 0.8266\n",
            "Epoch 8/30\n",
            "391/391 [==============================] - 55s 141ms/step - loss: 0.1592 - accuracy: 0.9416 - val_loss: 0.5195 - val_accuracy: 0.8120\n",
            "Epoch 9/30\n",
            "391/391 [==============================] - 55s 140ms/step - loss: 0.1101 - accuracy: 0.9609 - val_loss: 0.7240 - val_accuracy: 0.7802\n",
            "Epoch 10/30\n",
            "391/391 [==============================] - 55s 141ms/step - loss: 0.0700 - accuracy: 0.9774 - val_loss: 0.7191 - val_accuracy: 0.8292\n",
            "Epoch 11/30\n",
            "391/391 [==============================] - 55s 140ms/step - loss: 0.0453 - accuracy: 0.9864 - val_loss: 0.8807 - val_accuracy: 0.8188\n",
            "Epoch 12/30\n",
            "391/391 [==============================] - 55s 141ms/step - loss: 0.0780 - accuracy: 0.9746 - val_loss: 0.7278 - val_accuracy: 0.8250\n",
            "Epoch 13/30\n",
            "391/391 [==============================] - 55s 141ms/step - loss: 0.1149 - accuracy: 0.9593 - val_loss: 0.7811 - val_accuracy: 0.8266\n",
            "Epoch 14/30\n",
            "391/391 [==============================] - 55s 141ms/step - loss: 0.1318 - accuracy: 0.9492 - val_loss: 0.7071 - val_accuracy: 0.6990\n",
            "Epoch 15/30\n",
            "391/391 [==============================] - 55s 140ms/step - loss: 0.1253 - accuracy: 0.9556 - val_loss: 0.7972 - val_accuracy: 0.8115\n",
            "Epoch 16/30\n",
            "391/391 [==============================] - 55s 141ms/step - loss: 0.0330 - accuracy: 0.9906 - val_loss: 0.8410 - val_accuracy: 0.8089\n",
            "Epoch 17/30\n",
            "391/391 [==============================] - 55s 141ms/step - loss: 0.0358 - accuracy: 0.9892 - val_loss: 0.8788 - val_accuracy: 0.8057\n",
            "Epoch 18/30\n",
            "391/391 [==============================] - 55s 141ms/step - loss: 0.0293 - accuracy: 0.9911 - val_loss: 0.9960 - val_accuracy: 0.7995\n",
            "Epoch 19/30\n",
            "391/391 [==============================] - 55s 142ms/step - loss: 0.0204 - accuracy: 0.9940 - val_loss: 0.9918 - val_accuracy: 0.8057\n",
            "Epoch 20/30\n",
            "391/391 [==============================] - 55s 141ms/step - loss: 0.0238 - accuracy: 0.9930 - val_loss: 0.8641 - val_accuracy: 0.8172\n",
            "Epoch 21/30\n",
            "391/391 [==============================] - 55s 141ms/step - loss: 0.0578 - accuracy: 0.9816 - val_loss: 1.0634 - val_accuracy: 0.7885\n",
            "Epoch 22/30\n",
            "391/391 [==============================] - 56s 143ms/step - loss: 0.0533 - accuracy: 0.9839 - val_loss: 0.7878 - val_accuracy: 0.8000\n",
            "Epoch 23/30\n",
            "391/391 [==============================] - 56s 142ms/step - loss: 0.0566 - accuracy: 0.9809 - val_loss: 0.9872 - val_accuracy: 0.8146\n",
            "Epoch 24/30\n",
            "391/391 [==============================] - 55s 142ms/step - loss: 0.0233 - accuracy: 0.9931 - val_loss: 1.0840 - val_accuracy: 0.7953\n",
            "Epoch 25/30\n",
            "391/391 [==============================] - 55s 141ms/step - loss: 0.0286 - accuracy: 0.9914 - val_loss: 1.1031 - val_accuracy: 0.8115\n",
            "Epoch 26/30\n",
            "391/391 [==============================] - 55s 141ms/step - loss: 0.0146 - accuracy: 0.9954 - val_loss: 1.2001 - val_accuracy: 0.7937\n",
            "Epoch 27/30\n",
            "391/391 [==============================] - 56s 142ms/step - loss: 0.0077 - accuracy: 0.9977 - val_loss: 1.3630 - val_accuracy: 0.7885\n",
            "Epoch 28/30\n",
            "391/391 [==============================] - 56s 142ms/step - loss: 0.0270 - accuracy: 0.9924 - val_loss: 0.9177 - val_accuracy: 0.7922\n",
            "Epoch 29/30\n",
            "391/391 [==============================] - 55s 142ms/step - loss: 0.0130 - accuracy: 0.9967 - val_loss: 1.2921 - val_accuracy: 0.8042\n",
            "Epoch 30/30\n",
            "391/391 [==============================] - 55s 141ms/step - loss: 0.0109 - accuracy: 0.9968 - val_loss: 1.3963 - val_accuracy: 0.8062\n"
          ],
          "name": "stdout"
        }
      ]
    },
    {
      "cell_type": "code",
      "metadata": {
        "id": "zvHWKnyCnGen",
        "colab_type": "code",
        "colab": {}
      },
      "source": [
        "def pad_to_size(vec, size):\n",
        "  zeros = [0] * (size - len(vec))\n",
        "  vec.extend(zeros)\n",
        "  return vec"
      ],
      "execution_count": 0,
      "outputs": []
    },
    {
      "cell_type": "code",
      "metadata": {
        "id": "UbI_cpaGg3OC",
        "colab_type": "code",
        "colab": {}
      },
      "source": [
        "def sample_predictions(sentence, pad):\n",
        "  encoded_sample_pred_text = encoder.encode(sample_pred_text)\n",
        "  if pad:\n",
        "    encoded_sample_pred_text = pad_to_size(encoded_sample_pred_text, 64)\n",
        "  encoded_sample_pred_text = tf.cast(encoded_sample_pred_text, tf.float32)\n",
        "  predictions = model.predict(tf.expand_dims(encoded_sample_pred_text, 0))\n",
        "  return (predictions)"
      ],
      "execution_count": 0,
      "outputs": []
    },
    {
      "cell_type": "code",
      "metadata": {
        "id": "_9DjPk6nhVcX",
        "colab_type": "code",
        "outputId": "e0904a19-dd34-4d4b-9396-6298e7f7623a",
        "colab": {
          "base_uri": "https://localhost:8080/",
          "height": 34
        }
      },
      "source": [
        "sample_pred_text = ('The movie was cool. The animation and the graphics - were out of the worlx. I would recommend this movie to all')\n",
        "predictions = sample_predictions(sample_pred_text, pad=False)\n",
        "print(predictions)"
      ],
      "execution_count": 0,
      "outputs": [
        {
          "output_type": "stream",
          "text": [
            "[[0.7525396]]\n"
          ],
          "name": "stdout"
        }
      ]
    },
    {
      "cell_type": "code",
      "metadata": {
        "id": "KQxiXZG4huXZ",
        "colab_type": "code",
        "outputId": "37bc52fc-03d4-4091-9c45-9f8c127c7ae0",
        "colab": {
          "base_uri": "https://localhost:8080/",
          "height": 278
        }
      },
      "source": [
        "plot_graphs(history, 'accuracy')"
      ],
      "execution_count": 0,
      "outputs": [
        {
          "output_type": "display_data",
          "data": {
            "image/png": "[encoded data removed]",
            "text/plain": [
              "<Figure size 432x288 with 1 Axes>"
            ]
          },
          "metadata": {
            "tags": []
          }
        }
      ]
    },
    {
      "cell_type": "code",
      "metadata": {
        "id": "S-PETTMZhzIl",
        "colab_type": "code",
        "outputId": "7afafaab-422f-4d97-90e2-6da957176e44",
        "colab": {
          "base_uri": "https://localhost:8080/",
          "height": 278
        }
      },
      "source": [
        "plot_graphs(history, 'loss')"
      ],
      "execution_count": 0,
      "outputs": [
        {
          "output_type": "display_data",
          "data": {
            "image/png": "[encoded data removed]",
            "text/plain": [
              "<Figure size 432x288 with 1 Axes>"
            ]
          },
          "metadata": {
            "tags": []
          }
        }
      ]
    },
    {
      "cell_type": "markdown",
      "metadata": {
        "id": "7FptEZtKh2Fb",
        "colab_type": "text"
      },
      "source": [
        "### Stacking two or more LSTM layers"
      ]
    },
    {
      "cell_type": "code",
      "metadata": {
        "id": "qrpY7OoXh8qq",
        "colab_type": "code",
        "colab": {}
      },
      "source": [
        "model = tf.keras.Sequential([\n",
        "                             tf.keras.layers.Embedding(encoder.vocab_size, 64),\n",
        "                             tf.keras.layers.Bidirectional(tf.keras.layers.LSTM(128, return_sequences=True)),\n",
        "                             tf.keras.layers.Bidirectional(tf.keras.layers.LSTM(64, return_sequences=True)),\n",
        "                             tf.keras.layers.Bidirectional(tf.keras.layers.LSTM(32)),\n",
        "                             tf.keras.layers.Dense(128,activation='relu'),\n",
        "                             tf.keras.layers.Dense(64, activation='relu'),\n",
        "                             tf.keras.layers.Dense(1, activation='sigmoid')\n",
        "\n",
        "])"
      ],
      "execution_count": 0,
      "outputs": []
    },
    {
      "cell_type": "code",
      "metadata": {
        "id": "zGvW2XiBnHn8",
        "colab_type": "code",
        "colab": {}
      },
      "source": [
        "model.compile(loss='binary_crossentropy',\n",
        "              optimizer=tf.keras.optimizers.Adam(1e-4),\n",
        "              metrics=['accuracy'])"
      ],
      "execution_count": 0,
      "outputs": []
    },
    {
      "cell_type": "code",
      "metadata": {
        "id": "wfGTNMu0nWg_",
        "colab_type": "code",
        "outputId": "4d2b7baf-2253-4fd1-aac4-1a4e4e647636",
        "colab": {
          "base_uri": "https://localhost:8080/",
          "height": 747
        }
      },
      "source": [
        "history = model.fit(train_dataset, \n",
        "                    epochs=30,\n",
        "                    validation_data=test_dataset,\n",
        "                    validation_steps=30)"
      ],
      "execution_count": 0,
      "outputs": [
        {
          "output_type": "stream",
          "text": [
            "Epoch 1/30\n",
            "391/391 [==============================] - 196s 500ms/step - loss: 0.6054 - accuracy: 0.6356 - val_loss: 0.4280 - val_accuracy: 0.8057\n",
            "Epoch 2/30\n",
            "391/391 [==============================] - 192s 491ms/step - loss: 0.3297 - accuracy: 0.8686 - val_loss: 0.4407 - val_accuracy: 0.8021\n",
            "Epoch 3/30\n",
            "391/391 [==============================] - 193s 494ms/step - loss: 0.2477 - accuracy: 0.9066 - val_loss: 0.3394 - val_accuracy: 0.8500\n",
            "Epoch 4/30\n",
            "391/391 [==============================] - 193s 494ms/step - loss: 0.2031 - accuracy: 0.9271 - val_loss: 0.4379 - val_accuracy: 0.8083\n",
            "Epoch 5/30\n",
            "391/391 [==============================] - 192s 492ms/step - loss: 0.1647 - accuracy: 0.9450 - val_loss: 0.3948 - val_accuracy: 0.8380\n",
            "Epoch 6/30\n",
            "391/391 [==============================] - 194s 496ms/step - loss: 0.1373 - accuracy: 0.9570 - val_loss: 0.5340 - val_accuracy: 0.8276\n",
            "Epoch 7/30\n",
            "391/391 [==============================] - 194s 496ms/step - loss: 0.1110 - accuracy: 0.9672 - val_loss: 0.4654 - val_accuracy: 0.8464\n",
            "Epoch 8/30\n",
            "391/391 [==============================] - 191s 489ms/step - loss: 0.0955 - accuracy: 0.9731 - val_loss: 0.5306 - val_accuracy: 0.8318\n",
            "Epoch 9/30\n",
            "391/391 [==============================] - 193s 493ms/step - loss: 0.0949 - accuracy: 0.9724 - val_loss: 0.4949 - val_accuracy: 0.8500\n",
            "Epoch 10/30\n",
            "391/391 [==============================] - 192s 490ms/step - loss: 0.0754 - accuracy: 0.9802 - val_loss: 0.4907 - val_accuracy: 0.8573\n",
            "Epoch 11/30\n",
            "391/391 [==============================] - 193s 495ms/step - loss: 0.0727 - accuracy: 0.9807 - val_loss: 0.5676 - val_accuracy: 0.8448\n",
            "Epoch 12/30\n",
            "391/391 [==============================] - 193s 495ms/step - loss: 0.0704 - accuracy: 0.9817 - val_loss: 0.5065 - val_accuracy: 0.8578\n",
            "Epoch 13/30\n",
            "391/391 [==============================] - 194s 495ms/step - loss: 0.0569 - accuracy: 0.9866 - val_loss: 0.6104 - val_accuracy: 0.8495\n",
            "Epoch 14/30\n",
            "391/391 [==============================] - 193s 493ms/step - loss: 0.0680 - accuracy: 0.9812 - val_loss: 0.5173 - val_accuracy: 0.8313\n",
            "Epoch 15/30\n",
            "391/391 [==============================] - 192s 491ms/step - loss: 0.0491 - accuracy: 0.9894 - val_loss: 0.7035 - val_accuracy: 0.8193\n",
            "Epoch 16/30\n",
            "391/391 [==============================] - 193s 494ms/step - loss: 0.0530 - accuracy: 0.9867 - val_loss: 0.6218 - val_accuracy: 0.8401\n",
            "Epoch 17/30\n",
            "391/391 [==============================] - 194s 495ms/step - loss: 0.0418 - accuracy: 0.9915 - val_loss: 0.7013 - val_accuracy: 0.8365\n",
            "Epoch 18/30\n",
            "391/391 [==============================] - 193s 493ms/step - loss: 0.0641 - accuracy: 0.9830 - val_loss: 0.6313 - val_accuracy: 0.8526\n",
            "Epoch 19/30\n",
            "391/391 [==============================] - 192s 492ms/step - loss: 0.0447 - accuracy: 0.9899 - val_loss: 0.6987 - val_accuracy: 0.8313\n",
            "Epoch 20/30\n",
            "139/391 [=========>....................] - ETA: 2:01 - loss: 0.0455 - accuracy: 0.9890"
          ],
          "name": "stdout"
        }
      ]
    },
    {
      "cell_type": "code",
      "metadata": {
        "id": "zs88egwWnd--",
        "colab_type": "code",
        "colab": {}
      },
      "source": [
        ""
      ],
      "execution_count": 0,
      "outputs": []
    }
  ]
}